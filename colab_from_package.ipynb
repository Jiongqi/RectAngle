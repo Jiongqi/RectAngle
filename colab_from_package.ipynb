{
  "nbformat": 4,
  "nbformat_minor": 0,
  "metadata": {
    "colab": {
      "name": "colab_from_package.ipynb",
      "provenance": [],
      "collapsed_sections": [],
      "include_colab_link": true
    },
    "kernelspec": {
      "name": "python3",
      "display_name": "Python 3"
    },
    "language_info": {
      "name": "python"
    },
    "accelerator": "GPU",
    "widgets": {
      "application/vnd.jupyter.widget-state+json": {
        "777f04814f584a0891d8adfe93ffc447": {
          "model_module": "@jupyter-widgets/controls",
          "model_name": "HBoxModel",
          "state": {
            "_view_name": "HBoxView",
            "_dom_classes": [],
            "_model_name": "HBoxModel",
            "_view_module": "@jupyter-widgets/controls",
            "_model_module_version": "1.5.0",
            "_view_count": null,
            "_view_module_version": "1.5.0",
            "box_style": "",
            "layout": "IPY_MODEL_83311e5956a546088e608bbd31c38698",
            "_model_module": "@jupyter-widgets/controls",
            "children": [
              "IPY_MODEL_60b46b8d55bb49f98acb00223c96689f",
              "IPY_MODEL_1d55f27834f44487b1a849e371b191a7"
            ]
          }
        },
        "83311e5956a546088e608bbd31c38698": {
          "model_module": "@jupyter-widgets/base",
          "model_name": "LayoutModel",
          "state": {
            "_view_name": "LayoutView",
            "grid_template_rows": null,
            "right": null,
            "justify_content": null,
            "_view_module": "@jupyter-widgets/base",
            "overflow": null,
            "_model_module_version": "1.2.0",
            "_view_count": null,
            "flex_flow": null,
            "width": null,
            "min_width": null,
            "border": null,
            "align_items": null,
            "bottom": null,
            "_model_module": "@jupyter-widgets/base",
            "top": null,
            "grid_column": null,
            "overflow_y": null,
            "overflow_x": null,
            "grid_auto_flow": null,
            "grid_area": null,
            "grid_template_columns": null,
            "flex": null,
            "_model_name": "LayoutModel",
            "justify_items": null,
            "grid_row": null,
            "max_height": null,
            "align_content": null,
            "visibility": null,
            "align_self": null,
            "height": null,
            "min_height": null,
            "padding": null,
            "grid_auto_rows": null,
            "grid_gap": null,
            "max_width": null,
            "order": null,
            "_view_module_version": "1.2.0",
            "grid_template_areas": null,
            "object_position": null,
            "object_fit": null,
            "grid_auto_columns": null,
            "margin": null,
            "display": null,
            "left": null
          }
        },
        "60b46b8d55bb49f98acb00223c96689f": {
          "model_module": "@jupyter-widgets/controls",
          "model_name": "FloatProgressModel",
          "state": {
            "_view_name": "ProgressView",
            "style": "IPY_MODEL_00ec482b350c45fab584d9673ae78e41",
            "_dom_classes": [],
            "description": "100%",
            "_model_name": "FloatProgressModel",
            "bar_style": "success",
            "max": 115730790,
            "_view_module": "@jupyter-widgets/controls",
            "_model_module_version": "1.5.0",
            "value": 115730790,
            "_view_count": null,
            "_view_module_version": "1.5.0",
            "orientation": "horizontal",
            "min": 0,
            "description_tooltip": null,
            "_model_module": "@jupyter-widgets/controls",
            "layout": "IPY_MODEL_25756bd3553942558945933967b58bd4"
          }
        },
        "1d55f27834f44487b1a849e371b191a7": {
          "model_module": "@jupyter-widgets/controls",
          "model_name": "HTMLModel",
          "state": {
            "_view_name": "HTMLView",
            "style": "IPY_MODEL_f81f08ee046b496f8db0da48d9c88d09",
            "_dom_classes": [],
            "description": "",
            "_model_name": "HTMLModel",
            "placeholder": "​",
            "_view_module": "@jupyter-widgets/controls",
            "_model_module_version": "1.5.0",
            "value": " 110M/110M [00:04&lt;00:00, 28.0MB/s]",
            "_view_count": null,
            "_view_module_version": "1.5.0",
            "description_tooltip": null,
            "_model_module": "@jupyter-widgets/controls",
            "layout": "IPY_MODEL_09fa78e36c7f45b4b5ae2538d68d8db8"
          }
        },
        "00ec482b350c45fab584d9673ae78e41": {
          "model_module": "@jupyter-widgets/controls",
          "model_name": "ProgressStyleModel",
          "state": {
            "_view_name": "StyleView",
            "_model_name": "ProgressStyleModel",
            "description_width": "initial",
            "_view_module": "@jupyter-widgets/base",
            "_model_module_version": "1.5.0",
            "_view_count": null,
            "_view_module_version": "1.2.0",
            "bar_color": null,
            "_model_module": "@jupyter-widgets/controls"
          }
        },
        "25756bd3553942558945933967b58bd4": {
          "model_module": "@jupyter-widgets/base",
          "model_name": "LayoutModel",
          "state": {
            "_view_name": "LayoutView",
            "grid_template_rows": null,
            "right": null,
            "justify_content": null,
            "_view_module": "@jupyter-widgets/base",
            "overflow": null,
            "_model_module_version": "1.2.0",
            "_view_count": null,
            "flex_flow": null,
            "width": null,
            "min_width": null,
            "border": null,
            "align_items": null,
            "bottom": null,
            "_model_module": "@jupyter-widgets/base",
            "top": null,
            "grid_column": null,
            "overflow_y": null,
            "overflow_x": null,
            "grid_auto_flow": null,
            "grid_area": null,
            "grid_template_columns": null,
            "flex": null,
            "_model_name": "LayoutModel",
            "justify_items": null,
            "grid_row": null,
            "max_height": null,
            "align_content": null,
            "visibility": null,
            "align_self": null,
            "height": null,
            "min_height": null,
            "padding": null,
            "grid_auto_rows": null,
            "grid_gap": null,
            "max_width": null,
            "order": null,
            "_view_module_version": "1.2.0",
            "grid_template_areas": null,
            "object_position": null,
            "object_fit": null,
            "grid_auto_columns": null,
            "margin": null,
            "display": null,
            "left": null
          }
        },
        "f81f08ee046b496f8db0da48d9c88d09": {
          "model_module": "@jupyter-widgets/controls",
          "model_name": "DescriptionStyleModel",
          "state": {
            "_view_name": "StyleView",
            "_model_name": "DescriptionStyleModel",
            "description_width": "",
            "_view_module": "@jupyter-widgets/base",
            "_model_module_version": "1.5.0",
            "_view_count": null,
            "_view_module_version": "1.2.0",
            "_model_module": "@jupyter-widgets/controls"
          }
        },
        "09fa78e36c7f45b4b5ae2538d68d8db8": {
          "model_module": "@jupyter-widgets/base",
          "model_name": "LayoutModel",
          "state": {
            "_view_name": "LayoutView",
            "grid_template_rows": null,
            "right": null,
            "justify_content": null,
            "_view_module": "@jupyter-widgets/base",
            "overflow": null,
            "_model_module_version": "1.2.0",
            "_view_count": null,
            "flex_flow": null,
            "width": null,
            "min_width": null,
            "border": null,
            "align_items": null,
            "bottom": null,
            "_model_module": "@jupyter-widgets/base",
            "top": null,
            "grid_column": null,
            "overflow_y": null,
            "overflow_x": null,
            "grid_auto_flow": null,
            "grid_area": null,
            "grid_template_columns": null,
            "flex": null,
            "_model_name": "LayoutModel",
            "justify_items": null,
            "grid_row": null,
            "max_height": null,
            "align_content": null,
            "visibility": null,
            "align_self": null,
            "height": null,
            "min_height": null,
            "padding": null,
            "grid_auto_rows": null,
            "grid_gap": null,
            "max_width": null,
            "order": null,
            "_view_module_version": "1.2.0",
            "grid_template_areas": null,
            "object_position": null,
            "object_fit": null,
            "grid_auto_columns": null,
            "margin": null,
            "display": null,
            "left": null
          }
        }
      }
    }
  },
  "cells": [
    {
      "cell_type": "markdown",
      "metadata": {
        "id": "view-in-github",
        "colab_type": "text"
      },
      "source": [
        "<a href=\"https://colab.research.google.com/github/liamchalcroft/RectAngle/blob/main/colab_from_package.ipynb\" target=\"_parent\"><img src=\"https://colab.research.google.com/assets/colab-badge.svg\" alt=\"Open In Colab\"/></a>"
      ]
    },
    {
      "cell_type": "code",
      "metadata": {
        "colab": {
          "base_uri": "https://localhost:8080/"
        },
        "id": "UfxHGeAotV3m",
        "outputId": "a6589f8c-d226-46a3-eb9b-218d7221a771"
      },
      "source": [
        "! git clone https://49064dc98b2d46c3874378ed4375bf1b5938d905@github.com/liamchalcroft/RectAngle.git"
      ],
      "execution_count": 1,
      "outputs": [
        {
          "output_type": "stream",
          "text": [
            "Cloning into 'RectAngle'...\n",
            "remote: Enumerating objects: 715, done.\u001b[K\n",
            "remote: Counting objects: 100% (715/715), done.\u001b[K\n",
            "remote: Compressing objects: 100% (335/335), done.\u001b[K\n",
            "remote: Total 715 (delta 429), reused 551 (delta 280), pack-reused 0\u001b[K\n",
            "Receiving objects: 100% (715/715), 388.74 KiB | 3.24 MiB/s, done.\n",
            "Resolving deltas: 100% (429/429), done.\n"
          ],
          "name": "stdout"
        }
      ]
    },
    {
      "cell_type": "code",
      "metadata": {
        "colab": {
          "base_uri": "https://localhost:8080/"
        },
        "id": "G4WjDJMf2rPg",
        "outputId": "8daa256a-8cc5-4bbd-a074-e4076b9ff4b6"
      },
      "source": [
        "! pip uninstall rectangle -y; cd RectAngle; git pull; pip install . -q"
      ],
      "execution_count": 2,
      "outputs": [
        {
          "output_type": "stream",
          "text": [
            "\u001b[33mWARNING: Skipping rectangle as it is not installed.\u001b[0m\n",
            "Already up to date.\n",
            "  Installing build dependencies ... \u001b[?25l\u001b[?25hdone\n",
            "  Getting requirements to build wheel ... \u001b[?25l\u001b[?25hdone\n",
            "    Preparing wheel metadata ... \u001b[?25l\u001b[?25hdone\n",
            "  Building wheel for RectAngle (PEP 517) ... \u001b[?25l\u001b[?25hdone\n"
          ],
          "name": "stdout"
        }
      ]
    },
    {
      "cell_type": "code",
      "metadata": {
        "colab": {
          "base_uri": "https://localhost:8080/"
        },
        "id": "N3yi2JPGDqNP",
        "outputId": "d54a3391-56ba-43b8-cd58-124406f20ac9"
      },
      "source": [
        "! python RectAngle/data.py"
      ],
      "execution_count": 3,
      "outputs": [
        {
          "output_type": "stream",
          "text": [
            "Downloading data...\n",
            "Done.\n",
            "Image and label data downloaded: dataset70-200.h5\n",
            "  with 200 cases with a total of 5346 frames and 16038 labels.\n"
          ],
          "name": "stdout"
        }
      ]
    },
    {
      "cell_type": "code",
      "metadata": {
        "id": "Y3GKSeZathD-"
      },
      "source": [
        "import rectangle as rect\n",
        "import h5py\n",
        "import matplotlib.pyplot as plt\n",
        "import torch\n",
        "from scipy.stats import linregress"
      ],
      "execution_count": 4,
      "outputs": []
    },
    {
      "cell_type": "code",
      "metadata": {
        "id": "58WIlnMTuBBm"
      },
      "source": [
        "f = h5py.File('dataset70-200.h5', 'r')"
      ],
      "execution_count": 5,
      "outputs": []
    },
    {
      "cell_type": "code",
      "metadata": {
        "id": "XLvY2BxiuGOc"
      },
      "source": [
        "if torch.cuda.is_available():\n",
        "  device = torch.device('cuda')\n",
        "  torch.backends.cudnn.benchmark = True\n",
        "else:\n",
        "  device = torch.device('cpu')\n",
        "\n",
        "# model_ = rect.model.networks.UNet(n_layers=5, device=device, gate='attention')\n",
        "# model_ = rect.model.networks.UNet(n_layers=5, device=device, gate=None)"
      ],
      "execution_count": 6,
      "outputs": []
    },
    {
      "cell_type": "code",
      "metadata": {
        "id": "3xDt6p8PuVGw"
      },
      "source": [
        "train_ix, test_ix, _ = rect.utils.io.train_val_test(f, ratio=(0.8,0.2,0))\n",
        "\n",
        "train_keys, test_keys = rect.utils.io.key_gen(f, train_ix), \\\n",
        "                        rect.utils.io.key_gen(f, test_ix)\n",
        "\n",
        "train_data,  test_data = rect.utils.io.H5DataLoader(f, train_keys,'random'), \\\n",
        "                          rect.utils.io.H5DataLoader(f, test_keys, label='vote')\n",
        "\n",
        "test_plot_data = rect.utils.io.TestPlotLoader(f, test_keys, label='vote')"
      ],
      "execution_count": 7,
      "outputs": []
    },
    {
      "cell_type": "code",
      "metadata": {
        "id": "PfIezxTUWyn_"
      },
      "source": [
        "model_rand = rect.model.networks.UNet(n_layers=5, device=device, gate='attention')\n",
        "train_data_rand = rect.utils.io.H5DataLoader(f, train_keys, label='random')\n",
        "trainer_rand = rect.utils.train.Trainer(model_rand, ensemble=5, outdir='./random')\n",
        "trainer_rand.train(train_data, train_pre=[rect.utils.transforms.z_score(), rect.utils.transforms.Flip(), rect.utils.transforms.Affine(), rect.utils.transforms.SpeckleNoise()], \n",
        "              val_pre=[rect.utils.transforms.z_score()])\n",
        "trainer_rand.test(test_data, test_pre=[rect.utils.transforms.z_score()], \n",
        "             test_post=[rect.utils.transforms.Binary(), rect.utils.transforms.KeepLargestComponent()])\n",
        "trainer_rand.test(test_plot_data, test_pre=[rect.utils.transforms.z_score()], \n",
        "             test_post=[rect.utils.transforms.Binary(), rect.utils.transforms.KeepLargestComponent()])"
      ],
      "execution_count": 8,
      "outputs": []
    },
    {
      "cell_type": "code",
      "metadata": {
        "id": "gi20assk5qXi"
      },
      "source": [
        "model_vote = rect.model.networks.UNet(n_layers=5, device=device, gate='attention')\n",
        "train_data_vote = rect.utils.io.H5DataLoader(f, train_keys, label='vote')\n",
        "trainer_vote = rect.utils.train.Trainer(model_vote, ensemble=5, outdir='./vote')\n",
        "trainer_vote.train(train_data, train_pre=[rect.utils.transforms.z_score(), rect.utils.transforms.Flip(), rect.utils.transforms.Affine(), rect.utils.transforms.SpeckleNoise()], \n",
        "              val_pre=[rect.utils.transforms.z_score()])\n",
        "trainer_vote.test(test_data, test_pre=[rect.utils.transforms.z_score()], \n",
        "             test_post=[rect.utils.transforms.Binary(), rect.utils.transforms.KeepLargestComponent()])\n",
        "trainer_vote.test(test_plot_data, test_pre=[rect.utils.transforms.z_score()], \n",
        "             test_post=[rect.utils.transforms.Binary(), rect.utils.transforms.KeepLargestComponent()])"
      ],
      "execution_count": 9,
      "outputs": []
    },
    {
      "cell_type": "code",
      "metadata": {
        "id": "b4CjqIprhNkO"
      },
      "source": [
        "model_mean = rect.model.networks.UNet(n_layers=5, device=device, gate='attention')\n",
        "train_data_mean = rect.utils.io.H5DataLoader(f, train_keys, label='mean')\n",
        "trainer_mean = rect.utils.train.Trainer(model_mean, ensemble=5, outdir='./mean')\n",
        "trainer_mean.train(train_data, train_pre=[rect.utils.transforms.z_score(), rect.utils.transforms.Flip(), rect.utils.transforms.Affine(), rect.utils.transforms.SpeckleNoise()], \n",
        "              val_pre=[rect.utils.transforms.z_score()])\n",
        "trainer_mean.test(test_data, test_pre=[rect.utils.transforms.z_score()], \n",
        "             test_post=[rect.utils.transforms.Binary(), rect.utils.transforms.KeepLargestComponent()])\n",
        "trainer_mean.test(test_plot_data, test_pre=[rect.utils.transforms.z_score()], \n",
        "             test_post=[rect.utils.transforms.Binary(), rect.utils.transforms.KeepLargestComponent()])"
      ],
      "execution_count": 10,
      "outputs": []
    },
    {
      "cell_type": "code",
      "metadata": {
        "id": "vRPIQ1bTh22j"
      },
      "source": [
        "# import numpy as np\n",
        "\n",
        "# rand_dice = np.genfromtxt('./random/testing/table/dice_Apr-01-2021.csv', delimiter=',')\n",
        "# rand_prec = np.genfromtxt('./random/testing/table/precision_Apr-01-2021.csv', delimiter=',')\n",
        "# rand_rec = np.genfromtxt('./random/testing/table/recall_Apr-01-2021.csv', delimiter=',')\n",
        "\n",
        "# vote_dice = np.genfromtxt('./vote/testing/table/dice_Apr-01-2021.csv', delimiter=',')\n",
        "# vote_prec = np.genfromtxt('./vote/testing/table/precision_Apr-01-2021.csv', delimiter=',')\n",
        "# vote_rec = np.genfromtxt('./vote/testing/table/recall_Apr-01-2021.csv', delimiter=',')\n",
        "\n",
        "# mean_dice = np.genfromtxt('./mean/testing/table/dice_Apr-01-2021.csv', delimiter=',')\n",
        "# mean_prec = np.genfromtxt('./mean/testing/table/precision_Apr-01-2021.csv', delimiter=',')\n",
        "# mean_rec = np.genfromtxt('./mean/testing/table/recall_Apr-01-2021.csv', delimiter=',')"
      ],
      "execution_count": 11,
      "outputs": []
    },
    {
      "cell_type": "code",
      "metadata": {
        "id": "hx1K8sO0jOPt"
      },
      "source": [
        "# # create violin plots of dice scores\n",
        "\n",
        "# plt.figure(figsize=(16,8))\n",
        "\n",
        "# plt.subplot(131)\n",
        "# plt.violinplot([rand_dice, vote_dice, mean_dice], showmeans=True)\n",
        "# plt.ylabel('Dice Coefficient')\n",
        "# plt.xticks([1, 2, 3], ['Random Sampling', 'Vote Sampling', 'Mean (soft) Sampling'])\n",
        "\n",
        "# plt.subplot(132)\n",
        "# plt.violinplot([rand_prec, vote_prec, mean_prec], showmeans=True)\n",
        "# plt.ylabel('Precision')\n",
        "# plt.xticks([1, 2, 3], ['Random Sampling', 'Vote Sampling', 'Mean (soft) Sampling'])\n",
        "\n",
        "# plt.subplot(133)\n",
        "# plt.violinplot([rand_rec, vote_rec, mean_rec], showmeans=True)\n",
        "# plt.ylabel('Recall')\n",
        "# plt.xticks([1, 2, 3], ['Random Sampling', 'Vote Sampling', 'Mean (soft) Sampling'])\n",
        "\n",
        "# plt.show()"
      ],
      "execution_count": 12,
      "outputs": []
    },
    {
      "cell_type": "code",
      "metadata": {
        "id": "8o7OcIuhoQAH"
      },
      "source": [
        "# def bland_altman_plot(data1, data2, *args, **kwargs):\n",
        "#     mean      = np.mean([data1, data2], axis=0)\n",
        "#     diff      = data1 - data2                   # Difference between data1 and data2\n",
        "#     md        = np.mean(diff)                   # Mean of the difference\n",
        "#     sd        = np.std(diff, axis=0)            # Standard deviation of the difference\n",
        "#     fit = linregress(mean, diff)\n",
        "#     rsq = fit.rvalue**2\n",
        "#     x = np.linspace(mean.min(), mean.max())\n",
        "#     y = fit.slope * x + fit.intercept\n",
        "\n",
        "#     plt.scatter(mean, diff, *args, **kwargs)\n",
        "#     plt.plot(x, y, '--', c='r')\n",
        "#     plt.text(x[-1], y[-1], '$R^2$ = {:.3f}'.format(rsq), c='r')\n",
        "#     plt.axhline(md,           color='gray', linestyle='--')\n",
        "#     plt.axhline(md + 1.96*sd, color='gray', linestyle='--')\n",
        "#     plt.axhline(md - 1.96*sd, color='gray', linestyle='--')"
      ],
      "execution_count": 13,
      "outputs": []
    },
    {
      "cell_type": "code",
      "metadata": {
        "id": "3UeTHkx6o96g"
      },
      "source": [
        "# plt.figure(figsize=(16,8))\n",
        "# plt.subplot(131)\n",
        "# bland_altman_plot(rand_dice, vote_dice)\n",
        "# plt.ylim([-1.1, 1.1])\n",
        "# plt.xlim([-0.1, 1.1])\n",
        "# plt.xlabel('Mean Dice')\n",
        "# plt.ylabel('Difference in Dice')\n",
        "# plt.title('Random vs. Vote')\n",
        "# plt.subplot(132)\n",
        "# bland_altman_plot(mean_dice, vote_dice)\n",
        "# plt.ylim([-1.1, 1.1])\n",
        "# plt.xlim([-0.1, 1.1])\n",
        "# plt.title('Mean vs. Vote')\n",
        "# plt.subplot(133)\n",
        "# bland_altman_plot(rand_dice, mean_dice)\n",
        "# plt.ylim([-1.1, 1.1])\n",
        "# plt.xlim([-0.1, 1.1])\n",
        "# plt.title('Random vs. Mean')\n",
        "# plt.show()"
      ],
      "execution_count": 14,
      "outputs": []
    },
    {
      "cell_type": "code",
      "metadata": {
        "id": "UJTBScwNkTEx"
      },
      "source": [
        "# bland_altman_plot(rand_dice, mean_dice)"
      ],
      "execution_count": 15,
      "outputs": []
    },
    {
      "cell_type": "code",
      "metadata": {
        "id": "l6jj_eQ0rVA-"
      },
      "source": [
        "class_train_ix, class_val_ix, _ = rect.utils.io.train_val_test(f, ratio=(0.6,0.2,0.2))\n",
        "\n",
        "class_train_keys, class_val_keys = rect.utils.io.key_gen(f, class_train_ix), rect.utils.io.key_gen(f, class_val_ix)\n",
        "\n",
        "class_train_data, class_val_data = rect.utils.io.ClassifyDataLoader(f, class_train_keys), rect.utils.io.ClassifyDataLoader(f, class_val_keys)"
      ],
      "execution_count": 16,
      "outputs": []
    },
    {
      "cell_type": "code",
      "metadata": {
        "id": "J-KeA84F7Y0i"
      },
      "source": [
        "class_train_data = rect.utils.io.ClassifyDataLoader(f, class_train_keys)"
      ],
      "execution_count": 17,
      "outputs": []
    },
    {
      "cell_type": "code",
      "metadata": {
        "colab": {
          "base_uri": "https://localhost:8080/",
          "height": 103,
          "referenced_widgets": [
            "777f04814f584a0891d8adfe93ffc447",
            "83311e5956a546088e608bbd31c38698",
            "60b46b8d55bb49f98acb00223c96689f",
            "1d55f27834f44487b1a849e371b191a7",
            "00ec482b350c45fab584d9673ae78e41",
            "25756bd3553942558945933967b58bd4",
            "f81f08ee046b496f8db0da48d9c88d09",
            "09fa78e36c7f45b4b5ae2538d68d8db8"
          ]
        },
        "id": "zY60xuqD8hIK",
        "outputId": "408940ca-b34b-4efc-9ddf-878483517855"
      },
      "source": [
        "class_model = rect.model.networks.MakeDenseNet().to(device)"
      ],
      "execution_count": 18,
      "outputs": [
        {
          "output_type": "stream",
          "text": [
            "Downloading: \"https://download.pytorch.org/models/densenet161-8d451a50.pth\" to /root/.cache/torch/hub/checkpoints/densenet161-8d451a50.pth\n"
          ],
          "name": "stderr"
        },
        {
          "output_type": "display_data",
          "data": {
            "application/vnd.jupyter.widget-view+json": {
              "model_id": "777f04814f584a0891d8adfe93ffc447",
              "version_minor": 0,
              "version_major": 2
            },
            "text/plain": [
              "HBox(children=(FloatProgress(value=0.0, max=115730790.0), HTML(value='')))"
            ]
          },
          "metadata": {
            "tags": []
          }
        },
        {
          "output_type": "stream",
          "text": [
            "\n"
          ],
          "name": "stdout"
        }
      ]
    },
    {
      "cell_type": "code",
      "metadata": {
        "id": "Kj-YsboB9WUC"
      },
      "source": [
        "class_trainer = rect.utils.train.ClassTrainer(class_model, outdir='./classlogs',\n",
        "                                         ensemble=None)"
      ],
      "execution_count": 19,
      "outputs": []
    },
    {
      "cell_type": "code",
      "metadata": {
        "colab": {
          "base_uri": "https://localhost:8080/",
          "height": 1000
        },
        "id": "I8lBqScOBAej",
        "outputId": "9c85fffc-6164-4610-9905-b6794151ed15"
      },
      "source": [
        "class_trainer.train(class_train_data, class_val_data)"
      ],
      "execution_count": 20,
      "outputs": [
        {
          "output_type": "stream",
          "text": [
            "Epoch #0: Mean acc Loss: 0.6696661114692688\n",
            "Mean Validation acc: 0.45357142857142857\n",
            "Epoch #1: Mean acc Loss: 0.5967686176300049\n",
            "Epoch #2: Mean acc Loss: 0.5935425162315369\n",
            "Epoch #3: Mean acc Loss: 0.5401740074157715\n",
            "Epoch #4: Mean acc Loss: 0.4990276098251343\n",
            "Epoch #5: Mean acc Loss: 0.5860914587974548\n",
            "Mean Validation acc: 0.6964285714285714\n",
            "Epoch #6: Mean acc Loss: 0.5376402735710144\n",
            "Epoch #7: Mean acc Loss: 0.5028128623962402\n",
            "Epoch #8: Mean acc Loss: 0.6069912314414978\n",
            "Epoch #9: Mean acc Loss: 0.4520077705383301\n",
            "Epoch #10: Mean acc Loss: 0.4567717909812927\n",
            "Mean Validation acc: 0.6892857142857143\n",
            "Epoch #11: Mean acc Loss: 0.5439031720161438\n",
            "Epoch #12: Mean acc Loss: 0.5167207717895508\n",
            "Epoch #13: Mean acc Loss: 0.5122398734092712\n",
            "Epoch #14: Mean acc Loss: 0.4612293839454651\n",
            "Epoch #15: Mean acc Loss: 0.5171852707862854\n",
            "Mean Validation acc: 0.6678571428571429\n",
            "Epoch #16: Mean acc Loss: 0.5050668120384216\n",
            "Epoch #17: Mean acc Loss: 0.538873016834259\n",
            "Epoch #18: Mean acc Loss: 0.4093537926673889\n",
            "Epoch #19: Mean acc Loss: 0.5765904188156128\n",
            "Epoch #20: Mean acc Loss: 0.45676466822624207\n",
            "Mean Validation acc: 0.875\n",
            "Epoch #21: Mean acc Loss: 0.455476850271225\n",
            "Epoch #22: Mean acc Loss: 0.5364536643028259\n",
            "Epoch #23: Mean acc Loss: 0.5449144840240479\n",
            "Epoch #24: Mean acc Loss: 0.47094815969467163\n",
            "Epoch #25: Mean acc Loss: 0.483679860830307\n",
            "Mean Validation acc: 0.7392857142857142\n",
            "Epoch #26: Mean acc Loss: 0.4574816823005676\n",
            "Epoch #27: Mean acc Loss: 0.43004336953163147\n",
            "Epoch #28: Mean acc Loss: 0.45349204540252686\n",
            "Epoch #29: Mean acc Loss: 0.4145045876502991\n",
            "Epoch #30: Mean acc Loss: 0.4665375053882599\n",
            "Mean Validation acc: 0.8464285714285713\n",
            "Epoch #31: Mean acc Loss: 0.5146834850311279\n",
            "Epoch #32: Mean acc Loss: 0.5384495854377747\n",
            "Epoch #33: Mean acc Loss: 0.49689221382141113\n",
            "Epoch #34: Mean acc Loss: 0.439176470041275\n",
            "Epoch #35: Mean acc Loss: 0.4050416052341461\n",
            "Mean Validation acc: 0.7428571428571429\n",
            "Epoch #36: Mean acc Loss: 0.42929607629776\n",
            "Epoch #37: Mean acc Loss: 0.43393898010253906\n",
            "Epoch #38: Mean acc Loss: 0.43946748971939087\n",
            "Epoch #39: Mean acc Loss: 0.420273095369339\n",
            "Epoch #40: Mean acc Loss: 0.37834593653678894\n",
            "Mean Validation acc: 0.7428571428571429\n",
            "Epoch #41: Mean acc Loss: 0.38776177167892456\n",
            "Epoch #42: Mean acc Loss: 0.5162829756736755\n",
            "Epoch #43: Mean acc Loss: 0.48630496859550476\n",
            "Epoch #44: Mean acc Loss: 0.4016331136226654\n",
            "Epoch #45: Mean acc Loss: 0.432292640209198\n",
            "Mean Validation acc: 0.6535714285714286\n",
            "\n",
            "Training Complete\n"
          ],
          "name": "stdout"
        },
        {
          "output_type": "display_data",
          "data": {
            "image/png": "[encoded data removed]",
            "text/plain": [
              "<Figure size 576x432 with 1 Axes>"
            ]
          },
          "metadata": {
            "tags": [],
            "needs_background": "light"
          }
        }
      ]
    },
    {
      "cell_type": "code",
      "metadata": {
        "id": "JDwQasTsBt7c"
      },
      "source": [
        "test_screen_data = rect.utils.io.PreScreenLoader(class_model, f, test_keys, label='vote',\n",
        "                                                 threshold = 0.5)\n",
        "trainer_vote.test(test_screen_data, test_pre=[rect.utils.transforms.z_score()], \n",
        "             test_post=[rect.utils.transforms.Binary(), rect.utils.transforms.KeepLargestComponent()])"
      ],
      "execution_count": null,
      "outputs": []
    }
  ]
}