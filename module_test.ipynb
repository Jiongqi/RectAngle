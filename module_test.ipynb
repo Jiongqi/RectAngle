{
 "metadata": {
  "language_info": {
   "codemirror_mode": {
    "name": "ipython",
    "version": 3
   },
   "file_extension": ".py",
   "mimetype": "text/x-python",
   "name": "python",
   "nbconvert_exporter": "python",
   "pygments_lexer": "ipython3",
   "version": "3.8.5-final"
  },
  "orig_nbformat": 2,
  "kernelspec": {
   "name": "python3",
   "display_name": "Python 3.8.5 64-bit ('hyper': conda)",
   "metadata": {
    "interpreter": {
     "hash": "3b865b95ca3036323f8227a0c7911a20be49a315e6f907de440ab4515766d639"
    }
   }
  }
 },
 "nbformat": 4,
 "nbformat_minor": 2,
 "cells": [
  {
   "cell_type": "code",
   "execution_count": 3,
   "metadata": {},
   "outputs": [
    {
     "output_type": "stream",
     "name": "stdout",
     "text": [
      "All imports successful!\n"
     ]
    }
   ],
   "source": [
    "import torch\n",
    "from torch import nn\n",
    "from utils.io import train_val_test, key_gen, H5DataLoader\n",
    "from utils.metrics import DiceLoss\n",
    "from utils.transforms import Binary, KeepLargestComponent, RandomAffine, SpeckleNoise, Smooth, Flip\n",
    "from model.networks import UNet\n",
    "\n",
    "print('All imports successful!')"
   ]
  },
  {
   "cell_type": "code",
   "execution_count": null,
   "metadata": {},
   "outputs": [],
   "source": []
  }
 ]
}