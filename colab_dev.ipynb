{
  "nbformat": 4,
  "nbformat_minor": 0,
  "metadata": {
    "colab": {
      "name": "colab_dev.ipynb",
      "provenance": [],
      "authorship_tag": "ABX9TyPk5Fdfi9x/oqwHm4zfZPcF",
      "include_colab_link": true
    },
    "kernelspec": {
      "name": "python3",
      "display_name": "Python 3"
    },
    "language_info": {
      "name": "python"
    }
  },
  "cells": [
    {
      "cell_type": "markdown",
      "metadata": {
        "id": "view-in-github",
        "colab_type": "text"
      },
      "source": [
        "<a href=\"https://colab.research.google.com/github/liamchalcroft/RectAngle/blob/main/colab_dev.ipynb\" target=\"_parent\"><img src=\"https://colab.research.google.com/assets/colab-badge.svg\" alt=\"Open In Colab\"/></a>"
      ]
    },
    {
      "cell_type": "markdown",
      "metadata": {
        "id": "6A66Z-3v7Wii"
      },
      "source": [
        "Notebook for basic prototyping of work before porting to full script for testing\n",
        "\n",
        "Note: Try importing lambda layer"
      ]
    },
    {
      "cell_type": "code",
      "metadata": {
        "id": "SeoCPh1e7OWU"
      },
      "source": [
        ""
      ],
      "execution_count": null,
      "outputs": []
    }
  ]
}