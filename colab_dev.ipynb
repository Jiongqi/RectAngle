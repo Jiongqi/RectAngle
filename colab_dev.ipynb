{
  "nbformat": 4,
  "nbformat_minor": 0,
  "metadata": {
    "colab": {
      "name": "colab_dev.ipynb",
      "provenance": [],
      "collapsed_sections": [],
      "authorship_tag": "ABX9TyMTq5W6BwnoQmc/iVbyozSP",
      "include_colab_link": true
    },
    "kernelspec": {
      "name": "python3",
      "display_name": "Python 3"
    },
    "language_info": {
      "name": "python"
    },
    "accelerator": "GPU"
  },
  "cells": [
    {
      "cell_type": "markdown",
      "metadata": {
        "id": "view-in-github",
        "colab_type": "text"
      },
      "source": [
        "<a href=\"https://colab.research.google.com/github/liamchalcroft/RectAngle/blob/main/colab_dev.ipynb\" target=\"_parent\"><img src=\"https://colab.research.google.com/assets/colab-badge.svg\" alt=\"Open In Colab\"/></a>"
      ]
    },
    {
      "cell_type": "markdown",
      "metadata": {
        "id": "6A66Z-3v7Wii"
      },
      "source": [
        "Notebook for basic prototyping of work before porting to full script for testing\n",
        "\n",
        "Note: Try importing lambda layer"
      ]
    },
    {
      "cell_type": "code",
      "metadata": {
        "colab": {
          "base_uri": "https://localhost:8080/"
        },
        "id": "SeoCPh1e7OWU",
        "outputId": "e79cf202-8963-42e6-efa2-950c9db2003b"
      },
      "source": [
        "! git clone https://49064dc98b2d46c3874378ed4375bf1b5938d905@github.com/liamchalcroft/RectAngle.git"
      ],
      "execution_count": 1,
      "outputs": [
        {
          "output_type": "stream",
          "text": [
            "Cloning into 'RectAngle'...\n",
            "remote: Enumerating objects: 17, done.\u001b[K\n",
            "remote: Counting objects: 100% (17/17), done.\u001b[K\n",
            "remote: Compressing objects: 100% (17/17), done.\u001b[K\n",
            "remote: Total 17 (delta 4), reused 0 (delta 0), pack-reused 0\u001b[K\n",
            "Unpacking objects: 100% (17/17), done.\n"
          ],
          "name": "stdout"
        }
      ]
    },
    {
      "cell_type": "code",
      "metadata": {
        "colab": {
          "base_uri": "https://localhost:8080/"
        },
        "id": "4wIqq4er72H9",
        "outputId": "30dde8d3-1e2c-4544-8235-298304011266"
      },
      "source": [
        "! python ./RectAngle/data.py"
      ],
      "execution_count": 2,
      "outputs": [
        {
          "output_type": "stream",
          "text": [
            "Downloading data...\n",
            "Done.\n",
            "Image and label data downloaded: dataset70-200.h5\n",
            "  with 200 cases with a total of 5346 frames and 16038 labels.\n",
            "\n",
            "How many example frames would you like to visualise, e.g. 10?\n",
            "0\n"
          ],
          "name": "stdout"
        }
      ]
    },
    {
      "cell_type": "code",
      "metadata": {
        "id": "j9yrCXj69bbh"
      },
      "source": [
        "import h5py\n",
        "import matplotlib.pyplot as plt\n",
        "from torch import nn, einsum\n",
        "import torch\n",
        "import random\n",
        "import numpy as np\n",
        "from scipy.ndimage import measurements, gaussian_filter"
      ],
      "execution_count": 140,
      "outputs": []
    },
    {
      "cell_type": "code",
      "metadata": {
        "id": "By1cZ17l9rZJ"
      },
      "source": [
        "f = h5py.File('dataset70-200.h5', 'r')"
      ],
      "execution_count": 4,
      "outputs": []
    },
    {
      "cell_type": "code",
      "metadata": {
        "colab": {
          "base_uri": "https://localhost:8080/",
          "height": 268
        },
        "id": "B-1BkY1U-fT7",
        "outputId": "8a2b34ad-8a84-4f9a-dcc2-cccd55bf1f49"
      },
      "source": [
        "plt.figure()\n",
        "plt.subplot(2,3,2)\n",
        "plt.imshow(f['frame_0004_005'], cmap='gray')\n",
        "plt.subplot(2,3,4)\n",
        "plt.imshow(f['label_0004_005_00'], cmap='gray')\n",
        "plt.subplot(2,3,5)\n",
        "plt.imshow(f['label_0004_005_01'], cmap='gray')\n",
        "plt.subplot(2,3,6)\n",
        "plt.imshow(f['label_0004_005_02'], cmap='gray')\n",
        "plt.show()"
      ],
      "execution_count": 5,
      "outputs": [
        {
          "output_type": "display_data",
          "data": {
            "image/png": "[encoded data removed]",
            "text/plain": [
              "<Figure size 432x288 with 4 Axes>"
            ]
          },
          "metadata": {
            "tags": [],
            "needs_background": "light"
          }
        }
      ]
    },
    {
      "cell_type": "code",
      "metadata": {
        "id": "iJSD3yN7_VlY"
      },
      "source": [
        "# Network stuff\n",
        "\n",
        "class UNetBlock(nn.Module):\n",
        "  def __init__(self, ch_in, n_feat, device='cpu'):\n",
        "\n",
        "    super().__init__()\n",
        "\n",
        "    self.conv1 = torch.nn.Sequential(\n",
        "        nn.Conv2d(in_channels=ch_in, out_channels=n_feat, \n",
        "                  kernel_size=3, padding=1).to(device),\n",
        "        nn.ReLU(inplace=True).to(device),\n",
        "        nn.BatchNorm2d(num_features=n_feat).to(device))\n",
        "    \n",
        "    self.conv2 = torch.nn.Sequential(\n",
        "        nn.Conv2d(in_channels=n_feat, out_channels=n_feat, \n",
        "                  kernel_size=3, padding=1).to(device),\n",
        "        nn.ReLU(inplace=True).to(device),\n",
        "        nn.BatchNorm2d(num_features=n_feat).to(device)\n",
        "        )\n",
        "    \n",
        "    self.conv1.to(device)\n",
        "    self.conv2.to(device)\n",
        "    \n",
        "\n",
        "  def forward(self, x):\n",
        "    x = self.conv1(x)\n",
        "    x = x + self.conv2(x)\n",
        "    return x\n",
        "\n",
        "\n",
        "class AttentionGate(nn.Module):\n",
        "  # https://arxiv.org/pdf/1804.03999.pdf\n",
        "  def __init__(self, encoder_channels, \n",
        "               decoder_channels, intermediate_channels):\n",
        "    \n",
        "    super().__init__()\n",
        "\n",
        "    self.gate_weight = nn.Sequential(\n",
        "        nn.Conv2d(decoder_channels, intermediate_channels, kernel_size=1),\n",
        "        nn.BatchNorm2d(intermediate_channels)\n",
        "    )\n",
        "\n",
        "    self.activation_weight = nn.Sequential(\n",
        "        nn.Conv2d(encoder_channels_channels, intermediate_channels, kernel_size=1),\n",
        "        nn.BatchNorm2d(intermediate_channels)\n",
        "    )\n",
        "\n",
        "    self.relu = nn.ReLU(inplace=True)\n",
        "\n",
        "    self.psi = nn.Sequential(\n",
        "        nn.Conv2d(intermediate_channels, 1, kernel_size=1),\n",
        "        nn.BatchNorm2d(1),\n",
        "        nn.Sigmoid()\n",
        "    )\n",
        "\n",
        "  def forward(self, x_enc, x_dec):\n",
        "    g = self.gate_weight(x_dec)\n",
        "    x = self.activation_weight(x_enc)\n",
        "    x = self.relu(x + g)\n",
        "    x = self.psi(x)\n",
        "    return x * x_enc\n",
        "\n",
        "\n",
        "# class LambdaGate(nn.Module):\n",
        "#   # https://arxiv.org/pdf/2102.08602.pdf\n",
        "#   def __init__(self, ):\n",
        "\n",
        "\n",
        "class UNet(nn.Module):\n",
        "  def __init__(self, device='cpu', ch_in=1, ch_out=1,\n",
        "               first_layer=16, n_layers=4, \n",
        "               gate=None):\n",
        "    \n",
        "    # TODO: Add options for attention/lambda gating before concat\n",
        "    \n",
        "    super().__init__()\n",
        "\n",
        "    self.device = device\n",
        "\n",
        "    self.attn_list = None\n",
        "\n",
        "    if gate == 'attention':\n",
        "      attn_list = []\n",
        "      self.attn_list = attn_list\n",
        "    \n",
        "    enc_list = []\n",
        "    down_list = []\n",
        "\n",
        "    enc_list.append(UNetBlock(ch_in, first_layer, device).to(device))\n",
        "    if self.attn_list:\n",
        "      attn_list.append(AttentionGate(first_layer, first_layer*2, \n",
        "                                    first_layer*2).to(device))\n",
        "    down_list.append(nn.MaxPool2d(kernel_size=2, stride=2).to(device))\n",
        "\n",
        "    for i in range(n_layers-1):\n",
        "      enc_list.append(UNetBlock(first_layer*(2**i), \n",
        "                                          first_layer*(2**(i+1)),\n",
        "                                     device).to(device))\n",
        "      if self.attn_list:\n",
        "        attn_list.append(AttentionGate(first_layer*(2**i), \n",
        "                                       first_layer*(2**(i+1)), \n",
        "                                       first_layer*(2**(i+1))).to(device))\n",
        "      down_list.append(nn.MaxPool2d(kernel_size=2, stride=2).to(device))\n",
        "\n",
        "    self.enc_list = nn.ModuleList(enc_list)\n",
        "    if self.attn_list:\n",
        "      self.attn_list = nn.ModuleList(attn_list)\n",
        "    self.down_list = nn.ModuleList(down_list)\n",
        "      \n",
        "    self.bottleneck = UNetBlock(first_layer*(2**(n_layers-1)),\n",
        "                                     first_layer*(2**(n_layers)),\n",
        "                                     device).to(device)\n",
        "\n",
        "    dec_list = []\n",
        "    up_list = []\n",
        "\n",
        "    for i in range(n_layers):\n",
        "      up_list.append(nn.ConvTranspose2d(first_layer*(2**(n_layers-(i))), \n",
        "                                        first_layer*(2**(n_layers-(i+1))), \n",
        "                                        kernel_size=2, stride=2).to(device))\n",
        "      dec_list.append(UNetBlock(first_layer*(2**(n_layers-(i))), \n",
        "                                     first_layer*(2**(n_layers-(i+1))),\n",
        "                                     device).to(device))\n",
        "      \n",
        "    self.dec_list = nn.ModuleList(dec_list)\n",
        "    self.up_list = nn.ModuleList(up_list)\n",
        "      \n",
        "    self.head = nn.Conv2d(in_channels=first_layer, out_channels=ch_out, \n",
        "                          kernel_size=1).to(device)\n",
        "    \n",
        "    self.enc_list.to(device)\n",
        "    if self.attn_list:\n",
        "      self.attn_list.to(device)\n",
        "    self.down_list.to(device)\n",
        "    self.bottleneck.to(device)\n",
        "    self.dec_list.to(device)\n",
        "    self.up_list.to(device)\n",
        "    self.head.to(device)\n",
        "    \n",
        "    \n",
        "  def forward(self, x):\n",
        "    # pad images to (64,64)\n",
        "    shape = list(x.shape)\n",
        "    shape[2] = shape[3] = 64\n",
        "    pad_x = torch.zeros(shape)\n",
        "    pad_x[:,:,:58,:52] = x\n",
        "    x = pad_x.to(self.device)\n",
        "\n",
        "    enc_features = []\n",
        "\n",
        "    for i in range(len(self.enc_list)):\n",
        "      x = self.enc_list[i](x)\n",
        "      enc_features.append(x)\n",
        "      x = self.down_list[i](x)\n",
        "    \n",
        "    x = self.bottleneck(x)\n",
        "\n",
        "    enc_features = enc_features[::-1]\n",
        "\n",
        "    for i in range(len(self.dec_list)):\n",
        "      if self.attn_list:\n",
        "        atnn_enc = self.attn_list[i](enc_features[i], x)\n",
        "      x = self.up_list[i](x)\n",
        "      if self.attn_list:\n",
        "        x = torch.cat((x, attn_enc), dim=1)\n",
        "      else:\n",
        "        x = torch.cat((x, enc_features[i]), dim=1)\n",
        "      x = self.dec_list[i](x)\n",
        "\n",
        "    x = self.head(x)\n",
        "\n",
        "    # crop to original size of (58,52)\n",
        "    x = x[:,:,:58,:52]\n",
        "    \n",
        "    return torch.sigmoid(x)\n"
      ],
      "execution_count": 141,
      "outputs": []
    },
    {
      "cell_type": "code",
      "metadata": {
        "id": "S8JZ10DM5KPO"
      },
      "source": [
        "# Loss function\n",
        "\n",
        "class DiceLoss(nn.Module):\n",
        "    # Standard Dice loss, with variable smoothing constant\n",
        "    def __init__(self, soft=True, smooth=1, threshold=0.5):\n",
        "        super().__init__()\n",
        "        self.smooth = smooth\n",
        "        self.soft = soft\n",
        "        self.threshold = threshold\n",
        "\n",
        "    def forward(self, inputs, targets):\n",
        "      # Assume already in int form - binarise function available\n",
        "      # Seems to perform very well without binary - soft dice?\n",
        "\n",
        "      if not self.soft:\n",
        "        inputs = BinaryDice(inputs, self.threshold)\n",
        "\n",
        "      inputs = inputs.view(-1)\n",
        "      targets = targets.view(-1)\n",
        "\n",
        "      intersection = torch.sum(inputs * targets)\n",
        "      dice = ((2. * intersection) + self.smooth) / \\\n",
        "              (torch.sum(inputs) + torch.sum(targets) + self.smooth)\n",
        "\n",
        "      return (1 - dice)\n",
        "\n",
        "    @staticmethod\n",
        "    def BinaryDice(image, threshold=0.5):\n",
        "      return (image > threshold).int()\n"
      ],
      "execution_count": 295,
      "outputs": []
    },
    {
      "cell_type": "code",
      "metadata": {
        "id": "0P9HZo4I5ViH"
      },
      "source": [
        "# Pre- and post- processing:\n",
        "#   * Augmentation:\n",
        "#     - Noise (speckle and gauss)\n",
        "#     - Smoothing (gauss only, savitzky-golay in TODO)\n",
        "#     - Flip (L-R only)\n",
        "#   * Post-processing:\n",
        "#     - Binarise (variable threshold)\n",
        "#     - Keep-largest-connected-component\n",
        "\n",
        "\n",
        "def SpeckleNoise(image, type='speckle', mean=0, sigma=1, prob=0.7):\n",
        "  rand_ = random.uniform(0,1)\n",
        "  if rand_ < prob:\n",
        "    max = torch.amax(image, dim=(1,2,3))\n",
        "    noise = torch.randn(image.shape)\n",
        "\n",
        "    for i, max_ in enumerate(max):\n",
        "      mean_ = max_ * mean\n",
        "      sigma_ = max_ * sigma\n",
        "      noise[i,...] = mean_ + (sigma_**0.5) * noise[i,...]\n",
        "\n",
        "    if 'speckle':\n",
        "      return noise * image\n",
        "    elif 'gauss':\n",
        "      return noise + image\n",
        "    else:\n",
        "      raise ValueError('Invalid noise type - \\\n",
        "      please enter either \"speckle\" or \"gauss\".')\n",
        "  \n",
        "\n",
        "def Smooth(image, sigma=1, prob=0.7):\n",
        "  # Ideally add Savitzky-Golay filter instead of Gauss\n",
        "  rand_ = random.uniform(0,1)\n",
        "  if rand_ < prob:\n",
        "    max = torch.amax(image, dim=(1,2,3))\n",
        "    noise = torch.randn(image.shape)\n",
        "\n",
        "    for i, max_ in enumerate(max):\n",
        "      sigma_ = max_ * sigma_\n",
        "      image_ = torch.squeeze(image[i,0,...])\n",
        "      image_ = image_.detach().cpu().numpy()\n",
        "      image_smooth_ = gaussian_filter(image_, sigma_)\n",
        "      image[i,0,...] = torch.tensor(image_smooth_)\n",
        "    return image\n",
        "\n",
        "\n",
        "def Flip(image, prob=0.7):\n",
        "  rand_ = random.uniform(0,1)\n",
        "  if rand_ < prob:\n",
        "    return torch.fliplr(image)\n",
        "\n",
        "\n",
        "def KeepLargestComponent(image):\n",
        "  # FIX: Currently sets whole image to zero...\n",
        "  image_batch_ = torch.squeeze(image, dim=1)\n",
        "  image_batch_ = image_batch_.detach().cpu().numpy()\n",
        "  batch_size_ = image_batch_.shape[0]\n",
        "\n",
        "  for image_ in range(batch_size_):\n",
        "    image_ = np.squeeze(image_)\n",
        "    comp_, feat_ = measurements.label(image_)\n",
        "    largest_ = (image_ == feat_).astype(int)\n",
        "    image[image_,...] = torch.tensor(largest_)\n",
        "  \n",
        "  return image\n",
        "\n",
        "\n",
        "def Binary(image, threshold=0.5):\n",
        "  return (image > threshold).int()\n"
      ],
      "execution_count": 261,
      "outputs": []
    },
    {
      "cell_type": "code",
      "metadata": {
        "id": "qt-fbfrKkcZ0"
      },
      "source": [
        "# Data loading\n",
        "\n",
        "def train_val_test(file, ratio=(0.6, 0.2, 0.2)):\n",
        "  keys = [key.split('_') for key in file.keys()]\n",
        "  num_subjects = int(keys[-1][1])\n",
        "  assert 1.0 * sum(ratio) == 1.0\n",
        "  sum_ratio = list(ratio)\n",
        "  if sum_ratio[1] > 0:\n",
        "    sum_ratio[1] += sum_ratio[0]\n",
        "  if sum_ratio[2] > 0:\n",
        "    sum_ratio[2] += sum_ratio[1]\n",
        "  scaled_ratio = [int(round(val * num_subjects)) for val in sum_ratio]\n",
        "\n",
        "  ix = np.linspace(0, num_subjects, num_subjects+1, dtype=int)\n",
        "  train_ix = ix[:scaled_ratio[0]]\n",
        "  if scaled_ratio[1] > 0:\n",
        "    val_ix = ix[scaled_ratio[0]:scaled_ratio[1]]\n",
        "  else:\n",
        "    val_ix = 0\n",
        "  if scaled_ratio[2] > 0:\n",
        "    test_ix = ix[scaled_ratio[1]:scaled_ratio[2]]\n",
        "  else:\n",
        "    test_ix = 0\n",
        "\n",
        "  return train_ix, val_ix, test_ix\n",
        "\n",
        "\n",
        "def key_gen(file, ix):\n",
        "  keys = list(file.keys())\n",
        "  split_keys = [key.split('_') for key in keys]\n",
        "  new_keys = []\n",
        "\n",
        "  for i, key in enumerate(split_keys):\n",
        "    if int(key[1]) in ix:\n",
        "      new_keys.append(keys[i])\n",
        "\n",
        "  return new_keys\n",
        "\n",
        "\n",
        "class H5DataLoader(torch.utils.data.Dataset):\n",
        "  def __init__(self, file, keys=None):\n",
        "    \n",
        "    super().__init__()\n",
        "\n",
        "    self.file = file\n",
        "    if not keys:\n",
        "      keys = list(file.keys())\n",
        "    split_keys = [key.split('_') for key in keys]\n",
        "    start_subj = int(split_keys[0][1])\n",
        "    last_subj = int(split_keys[-1][1])\n",
        "    self.num_subjects = last_subj - start_subj\n",
        "    self.subjects = np.linspace(start_subj, last_subj, \n",
        "                                self.num_subjects+1, dtype=int)\n",
        "    num_frames = []\n",
        "    for subj in range(start_subj, last_subj):\n",
        "      subj_string = str(subj).zfill(4)\n",
        "      frames = [key[2] for key in split_keys if key[1] == subj_string]\n",
        "      num_frames.append(int(frames[-1]))\n",
        "\n",
        "    self.num_frames = num_frames\n",
        "\n",
        "  def __len__(self):\n",
        "        return self.num_subjects\n",
        "  \n",
        "  def __getitem__(self, index):\n",
        "    subj_ix = self.subjects[index]\n",
        "    frame_ix = random.randint(0, self.num_frames[index])\n",
        "    label_ix = random.randint(0, 2)\n",
        "    image = torch.unsqueeze(torch.tensor(\n",
        "        self.file['frame_%04d_%03d' % (subj_ix, \n",
        "                                       frame_ix\n",
        "                                       )][()].astype('float32')), dim=0)\n",
        "    label = torch.unsqueeze(torch.tensor(\n",
        "        self.file['label_%04d_%03d_%02d' % (subj_ix, \n",
        "                                            frame_ix, \n",
        "                                            label_ix\n",
        "                                            )][()].astype(int)), dim=0)\n",
        "    return(image, label)\n"
      ],
      "execution_count": 262,
      "outputs": []
    },
    {
      "cell_type": "code",
      "metadata": {
        "id": "-R1GNCoPKyUA"
      },
      "source": [
        "# print(model)"
      ],
      "execution_count": 263,
      "outputs": []
    },
    {
      "cell_type": "code",
      "metadata": {
        "id": "jmYX77T2QBjo"
      },
      "source": [
        "# ! pip install lambda-networks"
      ],
      "execution_count": 264,
      "outputs": []
    },
    {
      "cell_type": "code",
      "metadata": {
        "id": "9jPL9L0bOD-K"
      },
      "source": [
        "# Either figure out lambda import or write from scratch based on holocron code"
      ],
      "execution_count": 265,
      "outputs": []
    },
    {
      "cell_type": "code",
      "metadata": {
        "id": "3iEg95WqrWl9"
      },
      "source": [
        "if torch.cuda.is_available():\n",
        "  device = torch.device('cuda')\n",
        "  torch.backends.cudnn.benchmark = True\n",
        "else:\n",
        "  device = torch.device('cpu')\n",
        "\n",
        "model = UNet(n_layers=5, device=device, gate='attention')\n",
        "# model = UNet(n_layers=5, device=device, gate=None)"
      ],
      "execution_count": 290,
      "outputs": []
    },
    {
      "cell_type": "code",
      "metadata": {
        "colab": {
          "base_uri": "https://localhost:8080/"
        },
        "id": "eZoDjofxENZT",
        "outputId": "462e059b-22b0-462b-f150-f81d72e5f7b1"
      },
      "source": [
        "train_ix, val_ix, test_ix = train_val_test(f)\n",
        "\n",
        "train_keys, val_keys, test_keys = key_gen(f, train_ix), \\\n",
        "                                  key_gen(f, val_ix),\\\n",
        "                                  key_gen(f, test_ix)\n",
        "\n",
        "train_data, val_data, test_data = H5DataLoader(f, train_keys), \\\n",
        "                                  H5DataLoader(f, val_keys), \\\n",
        "                                  H5DataLoader(f, test_keys)\n",
        "\n",
        "train_loader = torch.utils.data.DataLoader(train_data, batch_size=64, \n",
        "                                           shuffle=True, num_workers=0)\n",
        "\n",
        "val_loader = torch.utils.data.DataLoader(val_data, batch_size=16, \n",
        "                                         shuffle=True, num_workers=0)\n",
        "\n",
        "print('Training data: {} subjects, Val data: {} subjects, Test data: {} subjects'.format(\\\n",
        "      train_data.num_subjects, val_data.num_subjects, test_data.num_subjects))"
      ],
      "execution_count": 291,
      "outputs": [
        {
          "output_type": "stream",
          "text": [
            "Training data: 118 subjects, Val data: 39 subjects, Test data: 39 subjects\n"
          ],
          "name": "stdout"
        }
      ]
    },
    {
      "cell_type": "code",
      "metadata": {
        "id": "UJrIQzZmTjOG"
      },
      "source": [
        "dice_loss = DiceLoss(soft=True, smooth=0)\n",
        "\n",
        "dice_val = DiceLoss(smooth=0)\n",
        "\n",
        "optim = torch.optim.Adam(model.parameters())"
      ],
      "execution_count": 292,
      "outputs": []
    },
    {
      "cell_type": "code",
      "metadata": {
        "id": "NG8TEk-PU6tq"
      },
      "source": [
        "nb_epoch = 1000\n",
        "print_interval = 50\n",
        "val_interval = 10\n",
        "\n",
        "loss_epoch = []\n",
        "loss_log = []\n",
        "dice_log = []"
      ],
      "execution_count": 293,
      "outputs": []
    },
    {
      "cell_type": "code",
      "metadata": {
        "colab": {
          "base_uri": "https://localhost:8080/"
        },
        "id": "kKqepZGtVOP8",
        "outputId": "5251cd38-6320-44a1-8a7f-bcdf8b060272"
      },
      "source": [
        "for epoch in range(nb_epoch):\n",
        "  for step, (input, label) in enumerate(train_loader):\n",
        "    input, label = input.to(device), label.to(device)\n",
        "\n",
        "    optim.zero_grad()\n",
        "    pred = model(input)\n",
        "    loss = dice_loss(pred, label)\n",
        "    loss.backward()\n",
        "    optim.step()\n",
        "\n",
        "    loss_epoch.append(loss.item())\n",
        "\n",
        "  mean_loss = np.mean(loss_epoch)\n",
        "  loss_log.append(mean_loss)\n",
        "  if epoch % print_interval == 0:\n",
        "    print('Epoch #{}: Mean Dice Loss: {}'.format(epoch, mean_loss))\n",
        "\n",
        "  if epoch % val_interval == 0:\n",
        "    with torch.no_grad():\n",
        "      for input, label in val_loader:\n",
        "        input, label = input.to(device), label.to(device)\n",
        "\n",
        "        pred = model(input)\n",
        "        pred = Binary(pred)\n",
        "        # pred = KeepLargestComponent(pred)\n",
        "        dice_metric = dice_val(pred, label)\n",
        "        dice_metric = 1 - dice_metric.item()\n",
        "\n",
        "    dice_log.append(dice_metric)\n",
        "    if epoch % print_interval == 0:\n",
        "      print('Mean Validation Dice: {}'.format(dice_metric))\n",
        "\n",
        "print('\\nTraining Complete')"
      ],
      "execution_count": 294,
      "outputs": [
        {
          "output_type": "stream",
          "text": [
            "Epoch #0: Mean Dice Loss: 0.7861521244049072\n",
            "Mean Validation Dice: 0.24316847324371338\n",
            "Epoch #50: Mean Dice Loss: 0.3252310834678949\n",
            "Mean Validation Dice: 0.6706184148788452\n",
            "Epoch #100: Mean Dice Loss: 0.2571684697476944\n",
            "Mean Validation Dice: 0.6547417044639587\n",
            "Epoch #150: Mean Dice Loss: 0.22777330539873894\n",
            "Mean Validation Dice: 0.8143209218978882\n",
            "Epoch #200: Mean Dice Loss: 0.21003171920183286\n",
            "Mean Validation Dice: 0.4995673894882202\n",
            "Epoch #250: Mean Dice Loss: 0.19716955109896414\n",
            "Mean Validation Dice: 0.5064205527305603\n",
            "Epoch #300: Mean Dice Loss: 0.1879523955904368\n",
            "Mean Validation Dice: 0.8026520013809204\n",
            "Epoch #350: Mean Dice Loss: 0.1814292316932624\n",
            "Mean Validation Dice: 0.8884490728378296\n",
            "Epoch #400: Mean Dice Loss: 0.17613265884487408\n",
            "Mean Validation Dice: 0.587367057800293\n",
            "Epoch #450: Mean Dice Loss: 0.17180818715803903\n",
            "Mean Validation Dice: 0.6764773726463318\n",
            "Epoch #500: Mean Dice Loss: 0.16822556654612222\n",
            "Mean Validation Dice: 0.8106654286384583\n",
            "Epoch #550: Mean Dice Loss: 0.1652445184665237\n",
            "Mean Validation Dice: 0.7411898374557495\n",
            "Epoch #600: Mean Dice Loss: 0.16260464278711456\n",
            "Mean Validation Dice: 0.6848484873771667\n",
            "Epoch #650: Mean Dice Loss: 0.16042388350732864\n",
            "Mean Validation Dice: 0.7637733221054077\n",
            "Epoch #700: Mean Dice Loss: 0.1587440215912083\n",
            "Mean Validation Dice: 0.4811673164367676\n",
            "Epoch #750: Mean Dice Loss: 0.15712770399018705\n",
            "Mean Validation Dice: 0.8098434209823608\n",
            "Epoch #800: Mean Dice Loss: 0.1553232227446286\n",
            "Mean Validation Dice: 0.7541791200637817\n",
            "Epoch #850: Mean Dice Loss: 0.15368406942112045\n",
            "Mean Validation Dice: 0.8629022836685181\n",
            "Epoch #900: Mean Dice Loss: 0.15226211627897757\n",
            "Mean Validation Dice: 0.8357639312744141\n",
            "Epoch #950: Mean Dice Loss: 0.15094270243002914\n",
            "Mean Validation Dice: 0.873724102973938\n",
            "\n",
            "Training Complete\n"
          ],
          "name": "stdout"
        }
      ]
    },
    {
      "cell_type": "code",
      "metadata": {
        "colab": {
          "base_uri": "https://localhost:8080/",
          "height": 388
        },
        "id": "YPlUswRD0Dkv",
        "outputId": "e0b85d9e-2017-481a-c8a1-985e8693920c"
      },
      "source": [
        "plt.figure(figsize=(8,6))\n",
        "plt.plot(np.linspace(0,nb_epoch,nb_epoch), loss_log)\n",
        "plt.plot(np.linspace(0,nb_epoch,nb_epoch//val_interval), dice_log)\n",
        "plt.xlabel('Epoch #')\n",
        "plt.legend(['Train Loss', 'Validation Dice'])\n",
        "plt.show()"
      ],
      "execution_count": 297,
      "outputs": [
        {
          "output_type": "display_data",
          "data": {
            "image/png": "[encoded data removed]",
            "text/plain": [
              "<Figure size 576x432 with 1 Axes>"
            ]
          },
          "metadata": {
            "tags": [],
            "needs_background": "light"
          }
        }
      ]
    },
    {
      "cell_type": "code",
      "metadata": {
        "colab": {
          "base_uri": "https://localhost:8080/",
          "height": 281
        },
        "id": "DvRZv3o32ALp",
        "outputId": "080e3b0e-369f-42ea-d3d5-3051b54c241e"
      },
      "source": [
        "with torch.no_grad():\n",
        "  (image, label) = next(iter(val_loader))\n",
        "  image, label = image.to(device), label.to(device)\n",
        "  pred = model(image)\n",
        "  pred = Binary(pred, threshold=0.9)\n",
        "  # pred = KeepLargestComponent(pred)\n",
        "  image, label, pred = (image.detach().cpu().numpy(), \n",
        "                      label.detach().cpu().numpy(), \n",
        "                      pred.detach().cpu().numpy())\n",
        "\n",
        "plt.figure(figsize=(12,4))\n",
        "plt.subplot(1,3,1)\n",
        "plt.imshow(image[0,0,:,:], cmap='gray')\n",
        "plt.title('Image')\n",
        "plt.subplot(1,3,2)\n",
        "plt.imshow(label[0,0,:,:], cmap='gray')\n",
        "plt.title('Label')\n",
        "plt.subplot(1,3,3)\n",
        "plt.imshow(pred[0,0,:,:], cmap='gray')\n",
        "plt.title('Prediction')\n",
        "plt.show()"
      ],
      "execution_count": 314,
      "outputs": [
        {
          "output_type": "display_data",
          "data": {
            "image/png": "[encoded data removed]",
            "text/plain": [
              "<Figure size 864x288 with 3 Axes>"
            ]
          },
          "metadata": {
            "tags": [],
            "needs_background": "light"
          }
        }
      ]
    },
    {
      "cell_type": "code",
      "metadata": {
        "id": "UsqddVKm0RfJ"
      },
      "source": [
        ""
      ],
      "execution_count": null,
      "outputs": []
    }
  ]
}