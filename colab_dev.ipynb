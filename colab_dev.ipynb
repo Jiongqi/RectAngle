{
  "nbformat": 4,
  "nbformat_minor": 0,
  "metadata": {
    "colab": {
      "name": "colab_dev.ipynb",
      "provenance": [],
      "collapsed_sections": [],
      "authorship_tag": "ABX9TyN9TNTCYj2BlwytWUk11B9S",
      "include_colab_link": true
    },
    "kernelspec": {
      "name": "python3",
      "display_name": "Python 3"
    },
    "language_info": {
      "name": "python"
    },
    "accelerator": "GPU"
  },
  "cells": [
    {
      "cell_type": "markdown",
      "metadata": {
        "id": "view-in-github",
        "colab_type": "text"
      },
      "source": [
        "<a href=\"https://colab.research.google.com/github/liamchalcroft/RectAngle/blob/main/colab_dev.ipynb\" target=\"_parent\"><img src=\"https://colab.research.google.com/assets/colab-badge.svg\" alt=\"Open In Colab\"/></a>"
      ]
    },
    {
      "cell_type": "markdown",
      "metadata": {
        "id": "6A66Z-3v7Wii"
      },
      "source": [
        "Notebook for basic prototyping of work before porting to full script for testing\n",
        "\n",
        "Note: Try importing lambda layer"
      ]
    },
    {
      "cell_type": "code",
      "metadata": {
        "colab": {
          "base_uri": "https://localhost:8080/"
        },
        "id": "SeoCPh1e7OWU",
        "outputId": "e79cf202-8963-42e6-efa2-950c9db2003b"
      },
      "source": [
        "! git clone https://49064dc98b2d46c3874378ed4375bf1b5938d905@github.com/liamchalcroft/RectAngle.git"
      ],
      "execution_count": 1,
      "outputs": [
        {
          "output_type": "stream",
          "text": [
            "Cloning into 'RectAngle'...\n",
            "remote: Enumerating objects: 17, done.\u001b[K\n",
            "remote: Counting objects: 100% (17/17), done.\u001b[K\n",
            "remote: Compressing objects: 100% (17/17), done.\u001b[K\n",
            "remote: Total 17 (delta 4), reused 0 (delta 0), pack-reused 0\u001b[K\n",
            "Unpacking objects: 100% (17/17), done.\n"
          ],
          "name": "stdout"
        }
      ]
    },
    {
      "cell_type": "code",
      "metadata": {
        "colab": {
          "base_uri": "https://localhost:8080/"
        },
        "id": "4wIqq4er72H9",
        "outputId": "30dde8d3-1e2c-4544-8235-298304011266"
      },
      "source": [
        "! python ./RectAngle/data.py"
      ],
      "execution_count": 2,
      "outputs": [
        {
          "output_type": "stream",
          "text": [
            "Downloading data...\n",
            "Done.\n",
            "Image and label data downloaded: dataset70-200.h5\n",
            "  with 200 cases with a total of 5346 frames and 16038 labels.\n",
            "\n",
            "How many example frames would you like to visualise, e.g. 10?\n",
            "0\n"
          ],
          "name": "stdout"
        }
      ]
    },
    {
      "cell_type": "code",
      "metadata": {
        "id": "j9yrCXj69bbh"
      },
      "source": [
        "import h5py\n",
        "import matplotlib.pyplot as plt\n",
        "from torch import nn, einsum\n",
        "import torch\n",
        "import random\n",
        "import numpy as np\n",
        "from scipy.ndimage import measurements, gaussian_filter"
      ],
      "execution_count": 140,
      "outputs": []
    },
    {
      "cell_type": "code",
      "metadata": {
        "id": "By1cZ17l9rZJ"
      },
      "source": [
        "f = h5py.File('dataset70-200.h5', 'r')"
      ],
      "execution_count": 4,
      "outputs": []
    },
    {
      "cell_type": "code",
      "metadata": {
        "colab": {
          "base_uri": "https://localhost:8080/",
          "height": 268
        },
        "id": "B-1BkY1U-fT7",
        "outputId": "8a2b34ad-8a84-4f9a-dcc2-cccd55bf1f49"
      },
      "source": [
        "plt.figure()\n",
        "plt.subplot(2,3,2)\n",
        "plt.imshow(f['frame_0004_005'], cmap='gray')\n",
        "plt.subplot(2,3,4)\n",
        "plt.imshow(f['label_0004_005_00'], cmap='gray')\n",
        "plt.subplot(2,3,5)\n",
        "plt.imshow(f['label_0004_005_01'], cmap='gray')\n",
        "plt.subplot(2,3,6)\n",
        "plt.imshow(f['label_0004_005_02'], cmap='gray')\n",
        "plt.show()"
      ],
      "execution_count": 5,
      "outputs": [
        {
          "output_type": "display_data",
          "data": {
            "image/png": "[encoded data removed]",
            "text/plain": [
              "<Figure size 432x288 with 4 Axes>"
            ]
          },
          "metadata": {
            "tags": [],
            "needs_background": "light"
          }
        }
      ]
    },
    {
      "cell_type": "code",
      "metadata": {
        "id": "iJSD3yN7_VlY"
      },
      "source": [
        "# Network stuff\n",
        "\n",
        "class UNetBlock(nn.Module):\n",
        "  def __init__(self, ch_in, n_feat, device='cpu'):\n",
        "\n",
        "    super().__init__()\n",
        "\n",
        "    self.conv1 = torch.nn.Sequential(\n",
        "        nn.Conv2d(in_channels=ch_in, out_channels=n_feat, \n",
        "                  kernel_size=3, padding=1).to(device),\n",
        "        nn.ReLU(inplace=True).to(device),\n",
        "        nn.BatchNorm2d(num_features=n_feat).to(device))\n",
        "    \n",
        "    self.conv2 = torch.nn.Sequential(\n",
        "        nn.Conv2d(in_channels=n_feat, out_channels=n_feat, \n",
        "                  kernel_size=3, padding=1).to(device),\n",
        "        nn.ReLU(inplace=True).to(device),\n",
        "        nn.BatchNorm2d(num_features=n_feat).to(device)\n",
        "        )\n",
        "    \n",
        "    self.conv1.to(device)\n",
        "    self.conv2.to(device)\n",
        "    \n",
        "\n",
        "  def forward(self, x):\n",
        "    x = self.conv1(x)\n",
        "    x = x + self.conv2(x)\n",
        "    return x\n",
        "\n",
        "\n",
        "class AttentionGate(nn.Module):\n",
        "  # https://arxiv.org/pdf/1804.03999.pdf\n",
        "  def __init__(self, encoder_channels, \n",
        "               decoder_channels, intermediate_channels):\n",
        "    \n",
        "    super().__init__()\n",
        "\n",
        "    self.gate_weight = nn.Sequential(\n",
        "        nn.Conv2d(decoder_channels, intermediate_channels, kernel_size=1),\n",
        "        nn.BatchNorm2d(intermediate_channels)\n",
        "    )\n",
        "\n",
        "    self.activation_weight = nn.Sequential(\n",
        "        nn.Conv2d(encoder_channels_channels, intermediate_channels, kernel_size=1),\n",
        "        nn.BatchNorm2d(intermediate_channels)\n",
        "    )\n",
        "\n",
        "    self.relu = nn.ReLU(inplace=True)\n",
        "\n",
        "    self.psi = nn.Sequential(\n",
        "        nn.Conv2d(intermediate_channels, 1, kernel_size=1),\n",
        "        nn.BatchNorm2d(1),\n",
        "        nn.Sigmoid()\n",
        "    )\n",
        "\n",
        "  def forward(self, x_enc, x_dec):\n",
        "    g = self.gate_weight(x_dec)\n",
        "    x = self.activation_weight(x_enc)\n",
        "    x = self.relu(x + g)\n",
        "    x = self.psi(x)\n",
        "    return x * x_enc\n",
        "\n",
        "\n",
        "# class LambdaGate(nn.Module):\n",
        "#   # https://arxiv.org/pdf/2102.08602.pdf\n",
        "#   def __init__(self, ):\n",
        "\n",
        "\n",
        "class UNet(nn.Module):\n",
        "  def __init__(self, device='cpu', ch_in=1, ch_out=1,\n",
        "               first_layer=16, n_layers=4, \n",
        "               gate=None):\n",
        "    \n",
        "    # TODO: Add options for attention/lambda gating before concat\n",
        "    \n",
        "    super().__init__()\n",
        "\n",
        "    self.device = device\n",
        "\n",
        "    self.attn_list = None\n",
        "\n",
        "    if gate == 'attention':\n",
        "      attn_list = []\n",
        "      self.attn_list = attn_list\n",
        "    \n",
        "    enc_list = []\n",
        "    down_list = []\n",
        "\n",
        "    enc_list.append(UNetBlock(ch_in, first_layer, device).to(device))\n",
        "    if self.attn_list:\n",
        "      attn_list.append(AttentionGate(first_layer, first_layer*2, \n",
        "                                    first_layer*2).to(device))\n",
        "    down_list.append(nn.MaxPool2d(kernel_size=2, stride=2).to(device))\n",
        "\n",
        "    for i in range(n_layers-1):\n",
        "      enc_list.append(UNetBlock(first_layer*(2**i), \n",
        "                                          first_layer*(2**(i+1)),\n",
        "                                     device).to(device))\n",
        "      if self.attn_list:\n",
        "        attn_list.append(AttentionGate(first_layer*(2**i), \n",
        "                                       first_layer*(2**(i+1)), \n",
        "                                       first_layer*(2**(i+1))).to(device))\n",
        "      down_list.append(nn.MaxPool2d(kernel_size=2, stride=2).to(device))\n",
        "\n",
        "    self.enc_list = nn.ModuleList(enc_list)\n",
        "    if self.attn_list:\n",
        "      self.attn_list = nn.ModuleList(attn_list)\n",
        "    self.down_list = nn.ModuleList(down_list)\n",
        "      \n",
        "    self.bottleneck = UNetBlock(first_layer*(2**(n_layers-1)),\n",
        "                                     first_layer*(2**(n_layers)),\n",
        "                                     device).to(device)\n",
        "\n",
        "    dec_list = []\n",
        "    up_list = []\n",
        "\n",
        "    for i in range(n_layers):\n",
        "      up_list.append(nn.ConvTranspose2d(first_layer*(2**(n_layers-(i))), \n",
        "                                        first_layer*(2**(n_layers-(i+1))), \n",
        "                                        kernel_size=2, stride=2).to(device))\n",
        "      dec_list.append(UNetBlock(first_layer*(2**(n_layers-(i))), \n",
        "                                     first_layer*(2**(n_layers-(i+1))),\n",
        "                                     device).to(device))\n",
        "      \n",
        "    self.dec_list = nn.ModuleList(dec_list)\n",
        "    self.up_list = nn.ModuleList(up_list)\n",
        "      \n",
        "    self.head = nn.Conv2d(in_channels=first_layer, out_channels=ch_out, \n",
        "                          kernel_size=1).to(device)\n",
        "    \n",
        "    self.enc_list.to(device)\n",
        "    if self.attn_list:\n",
        "      self.attn_list.to(device)\n",
        "    self.down_list.to(device)\n",
        "    self.bottleneck.to(device)\n",
        "    self.dec_list.to(device)\n",
        "    self.up_list.to(device)\n",
        "    self.head.to(device)\n",
        "    \n",
        "    \n",
        "  def forward(self, x):\n",
        "    # pad images to (64,64)\n",
        "    shape = list(x.shape)\n",
        "    shape[2] = shape[3] = 64\n",
        "    pad_x = torch.zeros(shape)\n",
        "    pad_x[:,:,:58,:52] = x\n",
        "    x = pad_x.to(self.device)\n",
        "\n",
        "    enc_features = []\n",
        "\n",
        "    for i in range(len(self.enc_list)):\n",
        "      x = self.enc_list[i](x)\n",
        "      enc_features.append(x)\n",
        "      x = self.down_list[i](x)\n",
        "    \n",
        "    x = self.bottleneck(x)\n",
        "\n",
        "    enc_features = enc_features[::-1]\n",
        "\n",
        "    for i in range(len(self.dec_list)):\n",
        "      if self.attn_list:\n",
        "        atnn_enc = self.attn_list[i](enc_features[i], x)\n",
        "      x = self.up_list[i](x)\n",
        "      if self.attn_list:\n",
        "        x = torch.cat((x, attn_enc), dim=1)\n",
        "      else:\n",
        "        x = torch.cat((x, enc_features[i]), dim=1)\n",
        "      x = self.dec_list[i](x)\n",
        "\n",
        "    x = self.head(x)\n",
        "\n",
        "    # crop to original size of (58,52)\n",
        "    x = x[:,:,:58,:52]\n",
        "    \n",
        "    return torch.sigmoid(x)\n"
      ],
      "execution_count": 6,
      "outputs": []
    },
    {
      "cell_type": "code",
      "metadata": {
        "id": "S8JZ10DM5KPO"
      },
      "source": [
        "# Loss function\n",
        "\n",
        "class DiceLoss(nn.Module):\n",
        "    # Standard Dice loss, with variable smoothing constant\n",
        "    def __init__(self, smooth=1):\n",
        "        super().__init__()\n",
        "        self.smooth = smooth\n",
        "\n",
        "    def forward(self, inputs, targets):\n",
        "        inputs = torch.round(inputs)\n",
        "        targets = torch.round(targets)\n",
        "\n",
        "        inputs = inputs.view(-1)\n",
        "        targets = targets.view(-1)\n",
        "\n",
        "        intersection = torch.sum(inputs * targets)\n",
        "        dice = ((2. * intersection) + self.smooth) / \\\n",
        "                (torch.sum(inputs) + torch.sum(targets) + self.smooth)\n",
        "\n",
        "        return (1 - dice)\n",
        "        "
      ],
      "execution_count": 7,
      "outputs": []
    },
    {
      "cell_type": "code",
      "metadata": {
        "id": "0P9HZo4I5ViH"
      },
      "source": [
        "# Pre- and post- processing:\n",
        "#   * Augmentation:\n",
        "#     - Noise (speckle and gauss)\n",
        "#     - Smoothing (gauss only, savitzky-golay in TODO)\n",
        "#     - Flip (L-R only)\n",
        "#   * Post-processing:\n",
        "#     - Binarise (variable threshold)\n",
        "#     - Keep-largest-connected-component\n",
        "\n",
        "\n",
        "def SpeckleNoise(image, type='speckle', mean=0, sigma=1, prob=0.7):\n",
        "  rand_ = random.uniform(0,1)\n",
        "  if rand_ < prob:\n",
        "    max = torch.amax(image, dim=(1,2,3))\n",
        "    noise = torch.randn(image.shape)\n",
        "\n",
        "    for i, max_ in enumerate(max):\n",
        "      mean_ = max_ * mean\n",
        "      sigma_ = max_ * sigma\n",
        "      noise[i,...] = mean_ + (sigma_**0.5) * noise[i,...]\n",
        "\n",
        "    if 'speckle':\n",
        "      return noise * image\n",
        "    elif 'gauss':\n",
        "      return noise + image\n",
        "    else:\n",
        "      raise ValueError('Invalid noise type - \\\n",
        "      please enter either \"speckle\" or \"gauss\".')\n",
        "  \n",
        "\n",
        "def Smooth(image, sigma=1, prob=0.7):\n",
        "  # Ideally add Savitzky-Golay filter instead of Gauss\n",
        "  rand_ = random.uniform(0,1)\n",
        "  if rand_ < prob:\n",
        "    max = torch.amax(image, dim=(1,2,3))\n",
        "    noise = torch.randn(image.shape)\n",
        "\n",
        "    for i, max_ in enumerate(max):\n",
        "      sigma_ = max_ * sigma_\n",
        "      image_ = torch.squeeze(image[i,0,...])\n",
        "      image_ = image_.detach().cpu().numpy()\n",
        "      image_smooth_ = gaussian_filter(image_, sigma_)\n",
        "      image[i,0,...] = torch.tensor(image_smooth_)\n",
        "    return image\n",
        "\n",
        "\n",
        "def Flip(image, prob=0.7):\n",
        "  rand_ = random.uniform(0,1)\n",
        "  if rand_ < prob:\n",
        "    return torch.fliplr(image)\n",
        "\n",
        "\n",
        "def KeepLargestComponent(image):\n",
        "  image_batch_ = torch.squeeze(image, dim=1)\n",
        "  image_batch_ = image_.detach().cpu().numpy()\n",
        "  batch_size_ = image_batch.shape[0]\n",
        "\n",
        "  for image_ in range(batch_size_):\n",
        "    image_ = np.squeeze(image_)\n",
        "    comp_, feat_ = measurements.label(image_)\n",
        "    largest_ = (image_ == feat_).astype(int)\n",
        "    image[image_,...] = torch.tensor(largest_)\n",
        "\n",
        "\n",
        "def Binary(image, threshold=0.5):\n",
        "  return torch.int8(torch.where(image > threshold, image, 0))\n"
      ],
      "execution_count": 8,
      "outputs": []
    },
    {
      "cell_type": "code",
      "metadata": {
        "colab": {
          "base_uri": "https://localhost:8080/"
        },
        "id": "Q4ljQzKhnIu_",
        "outputId": "3c6ec417-64dd-43d2-e34d-299d44b5fb76"
      },
      "source": [
        "test = torch.randn(4,1,40,40)\n",
        "\n",
        "test2 = torch.randn(test.shape)\n",
        "\n",
        "test2.shape"
      ],
      "execution_count": 139,
      "outputs": [
        {
          "output_type": "execute_result",
          "data": {
            "text/plain": [
              "torch.Size([4, 1, 40, 40])"
            ]
          },
          "metadata": {
            "tags": []
          },
          "execution_count": 139
        }
      ]
    },
    {
      "cell_type": "code",
      "metadata": {
        "id": "qt-fbfrKkcZ0"
      },
      "source": [
        "# Data loading\n",
        "\n",
        "def train_val_test(file, ratio=(0.6, 0.2, 0.2)):\n",
        "  keys = [key.split('_') for key in file.keys()]\n",
        "  num_subjects = int(keys[-1][1])\n",
        "  assert 1.0 * sum(ratio) == 1.0\n",
        "  sum_ratio = list(ratio)\n",
        "  if sum_ratio[1] > 0:\n",
        "    sum_ratio[1] += sum_ratio[0]\n",
        "  if sum_ratio[2] > 0:\n",
        "    sum_ratio[2] += sum_ratio[1]\n",
        "  scaled_ratio = [int(round(val * num_subjects)) for val in sum_ratio]\n",
        "\n",
        "  ix = np.linspace(0, num_subjects, num_subjects+1, dtype=int)\n",
        "  train_ix = ix[:scaled_ratio[0]]\n",
        "  if scaled_ratio[1] > 0:\n",
        "    val_ix = ix[scaled_ratio[0]:scaled_ratio[1]]\n",
        "  else:\n",
        "    val_ix = 0\n",
        "  if scaled_ratio[2] > 0:\n",
        "    test_ix = ix[scaled_ratio[1]:scaled_ratio[2]]\n",
        "  else:\n",
        "    test_ix = 0\n",
        "\n",
        "  return train_ix, val_ix, test_ix\n",
        "\n",
        "\n",
        "def key_gen(file, ix):\n",
        "  keys = list(file.keys())\n",
        "  split_keys = [key.split('_') for key in keys]\n",
        "  new_keys = []\n",
        "\n",
        "  for i, key in enumerate(split_keys):\n",
        "    if int(key[1]) in ix:\n",
        "      new_keys.append(keys[i])\n",
        "\n",
        "  return new_keys\n",
        "\n",
        "\n",
        "class H5DataLoader(torch.utils.data.Dataset):\n",
        "  def __init__(self, file, keys=None):\n",
        "    \n",
        "    super().__init__()\n",
        "\n",
        "    self.file = file\n",
        "    if not keys:\n",
        "      keys = list(file.keys())\n",
        "    split_keys = [key.split('_') for key in keys]\n",
        "    start_subj = int(split_keys[0][1])\n",
        "    last_subj = int(split_keys[-1][1])\n",
        "    self.num_subjects = last_subj - start_subj\n",
        "    self.subjects = np.linspace(start_subj, last_subj, \n",
        "                                self.num_subjects+1, dtype=int)\n",
        "    num_frames = []\n",
        "    for subj in range(start_subj, last_subj):\n",
        "      subj_string = str(subj).zfill(4)\n",
        "      frames = [key[2] for key in split_keys if key[1] == subj_string]\n",
        "      num_frames.append(int(frames[-1]))\n",
        "\n",
        "    self.num_frames = num_frames\n",
        "\n",
        "  def __len__(self):\n",
        "        return self.num_subjects\n",
        "  \n",
        "  def __getitem__(self, index):\n",
        "    subj_ix = self.subjects[index]\n",
        "    frame_ix = random.randint(0, self.num_frames[index])\n",
        "    label_ix = random.randint(0, 2)\n",
        "    image = torch.unsqueeze(torch.tensor(\n",
        "        self.file['frame_%04d_%03d' % (subj_ix, \n",
        "                                       frame_ix\n",
        "                                       )][()].astype('float32')), dim=0)\n",
        "    label = torch.unsqueeze(torch.tensor(\n",
        "        self.file['label_%04d_%03d_%02d' % (subj_ix, \n",
        "                                            frame_ix, \n",
        "                                            label_ix\n",
        "                                            )][()].astype('uint8')), dim=0)\n",
        "    return(image, label)\n"
      ],
      "execution_count": 9,
      "outputs": []
    },
    {
      "cell_type": "code",
      "metadata": {
        "id": "-R1GNCoPKyUA"
      },
      "source": [
        "# print(model)"
      ],
      "execution_count": 10,
      "outputs": []
    },
    {
      "cell_type": "code",
      "metadata": {
        "id": "jmYX77T2QBjo"
      },
      "source": [
        "# ! pip install lambda-networks"
      ],
      "execution_count": 11,
      "outputs": []
    },
    {
      "cell_type": "code",
      "metadata": {
        "id": "9jPL9L0bOD-K"
      },
      "source": [
        "# Either figure out lambda import or write from scratch based on holocron code"
      ],
      "execution_count": 12,
      "outputs": []
    },
    {
      "cell_type": "code",
      "metadata": {
        "id": "3iEg95WqrWl9"
      },
      "source": [
        "if torch.cuda.is_available():\n",
        "  device = torch.device('cuda')\n",
        "  torch.backends.cudnn.benchmark = True\n",
        "else:\n",
        "  device = torch.device('cpu')\n",
        "\n",
        "model = UNet(n_layers=5, device=device, gate=None)"
      ],
      "execution_count": 13,
      "outputs": []
    },
    {
      "cell_type": "code",
      "metadata": {
        "colab": {
          "base_uri": "https://localhost:8080/"
        },
        "id": "eZoDjofxENZT",
        "outputId": "6be26a45-98d0-4db4-a1a7-e3473354fc48"
      },
      "source": [
        "train_ix, val_ix, test_ix = train_val_test(f)\n",
        "\n",
        "train_keys, val_keys, test_keys = key_gen(f, train_ix), \\\n",
        "                                  key_gen(f, val_ix),\\\n",
        "                                  key_gen(f, test_ix)\n",
        "\n",
        "train_data, val_data, test_data = H5DataLoader(f, train_keys), \\\n",
        "                                  H5DataLoader(f, val_keys), \\\n",
        "                                  H5DataLoader(f, test_keys)\n",
        "\n",
        "train_loader = torch.utils.data.DataLoader(train_data, batch_size=64, \n",
        "                                           shuffle=True, num_workers=0)\n",
        "\n",
        "val_loader = torch.utils.data.DataLoader(val_data, batch_size=16, \n",
        "                                         shuffle=True, num_workers=0)\n",
        "\n",
        "print('Training data: {} subjects, Val data: {} subjects, Test data: {} subjects'.format(\\\n",
        "      train_data.num_subjects, val_data.num_subjects, test_data.num_subjects))"
      ],
      "execution_count": 14,
      "outputs": [
        {
          "output_type": "stream",
          "text": [
            "Training data: 118 subjects, Val data: 39 subjects, Test data: 39 subjects\n"
          ],
          "name": "stdout"
        }
      ]
    },
    {
      "cell_type": "code",
      "metadata": {
        "id": "UJrIQzZmTjOG"
      },
      "source": [
        "dice_loss = DiceLoss()\n",
        "\n",
        "dice_val = DiceLoss(smooth=0)\n",
        "\n",
        "optim = torch.optim.Adam(model.parameters())"
      ],
      "execution_count": 15,
      "outputs": []
    },
    {
      "cell_type": "code",
      "metadata": {
        "id": "NG8TEk-PU6tq"
      },
      "source": [
        "nb_epoch = 1000\n",
        "print_interval = 50\n",
        "val_interval = 10\n",
        "\n",
        "loss_epoch = []\n",
        "loss_log = []\n",
        "dice_log = []"
      ],
      "execution_count": 16,
      "outputs": []
    },
    {
      "cell_type": "code",
      "metadata": {
        "colab": {
          "base_uri": "https://localhost:8080/"
        },
        "id": "kKqepZGtVOP8",
        "outputId": "707ec3aa-73cd-467c-f5e5-d444dbf0cee3"
      },
      "source": [
        "for epoch in range(nb_epoch):\n",
        "  for step, (input, label) in enumerate(train_loader):\n",
        "    input, label = input.to(device), label.to(device)\n",
        "\n",
        "    optim.zero_grad()\n",
        "    pred = model(input)\n",
        "    loss = dice_loss(pred, label)\n",
        "    loss.backward()\n",
        "    optim.step()\n",
        "\n",
        "    loss_epoch.append(loss.item())\n",
        "\n",
        "  mean_loss = np.mean(loss_epoch)\n",
        "  loss_log.append(mean_loss)\n",
        "  if epoch % print_interval == 0:\n",
        "    print('Epoch #{}: Mean Dice Loss: {}'.format(epoch, mean_loss))\n",
        "\n",
        "  if epoch % val_interval == 0:\n",
        "    with torch.no_grad():\n",
        "      for input, label in val_loader:\n",
        "        input, label = input.to(device), label.to(device)\n",
        "\n",
        "        pred = model(input)\n",
        "        dice_metric = dice_val(pred, label)\n",
        "        dice_metric = 1 - dice_metric.item()\n",
        "\n",
        "    dice_log.append(dice_metric)\n",
        "    if epoch % print_interval == 0:\n",
        "      print('Mean Validation Dice: {}'.format(dice_metric))\n",
        "\n",
        "print('\\nTraining Complete')"
      ],
      "execution_count": 61,
      "outputs": [
        {
          "output_type": "stream",
          "text": [
            "Epoch #0: Mean Dice Loss: 0.8011770447095236\n",
            "Mean Validation Dice: 0.13966137170791626\n",
            "Epoch #50: Mean Dice Loss: 0.8066881057483698\n",
            "Mean Validation Dice: 0.11672431230545044\n",
            "Epoch #100: Mean Dice Loss: 0.808082374802517\n",
            "Mean Validation Dice: 0.22388172149658203\n",
            "Epoch #150: Mean Dice Loss: 0.807621229168595\n",
            "Mean Validation Dice: 0.29840362071990967\n",
            "Epoch #200: Mean Dice Loss: 0.8075522210072127\n",
            "Mean Validation Dice: 0.1645214557647705\n",
            "Epoch #250: Mean Dice Loss: 0.8074899920587679\n",
            "Mean Validation Dice: 0.22463130950927734\n",
            "Epoch #300: Mean Dice Loss: 0.8077997905207367\n",
            "Mean Validation Dice: 0.22549021244049072\n",
            "Epoch #350: Mean Dice Loss: 0.8080392524048134\n",
            "Mean Validation Dice: 0.09214639663696289\n",
            "Epoch #400: Mean Dice Loss: 0.8079813882795256\n",
            "Mean Validation Dice: 0.1457364559173584\n",
            "Epoch #450: Mean Dice Loss: 0.8082094823794284\n",
            "Mean Validation Dice: 0.2010529637336731\n",
            "Epoch #500: Mean Dice Loss: 0.8084039038130226\n",
            "Mean Validation Dice: 0.15651488304138184\n",
            "Epoch #550: Mean Dice Loss: 0.8083467861413235\n",
            "Mean Validation Dice: 0.06621909141540527\n",
            "Epoch #600: Mean Dice Loss: 0.8081747868361238\n",
            "Mean Validation Dice: 0.23085254430770874\n",
            "Epoch #650: Mean Dice Loss: 0.8083726367886959\n",
            "Mean Validation Dice: 0.12295651435852051\n",
            "Epoch #700: Mean Dice Loss: 0.8081791019983877\n",
            "Mean Validation Dice: 0.0780261754989624\n",
            "Epoch #750: Mean Dice Loss: 0.8081211665710554\n",
            "Mean Validation Dice: 0.21220910549163818\n",
            "Epoch #800: Mean Dice Loss: 0.8080442949875265\n",
            "Mean Validation Dice: 0.1930026412010193\n",
            "Epoch #850: Mean Dice Loss: 0.8080518210676666\n",
            "Mean Validation Dice: 0.16252630949020386\n",
            "Epoch #900: Mean Dice Loss: 0.8080193616265153\n",
            "Mean Validation Dice: 0.1791771650314331\n",
            "Epoch #950: Mean Dice Loss: 0.808142662006556\n",
            "Mean Validation Dice: 0.24813896417617798\n",
            "\n",
            "Training Complete\n"
          ],
          "name": "stdout"
        }
      ]
    },
    {
      "cell_type": "code",
      "metadata": {
        "colab": {
          "base_uri": "https://localhost:8080/",
          "height": 279
        },
        "id": "YPlUswRD0Dkv",
        "outputId": "1f27b7cb-0a4d-43cc-c913-7487ee4e0126"
      },
      "source": [
        "plt.figure()\n",
        "plt.plot(np.linspace(0,nb_epoch,nb_epoch), loss_log)\n",
        "plt.plot(np.linspace(0,nb_epoch,nb_epoch//val_interval), dice_log)\n",
        "plt.xlabel('Epoch #')\n",
        "plt.legend(['Train Loss', 'Validation Dice'])\n",
        "plt.show()"
      ],
      "execution_count": 62,
      "outputs": [
        {
          "output_type": "display_data",
          "data": {
            "image/png": "[encoded data removed]",
            "text/plain": [
              "<Figure size 432x288 with 1 Axes>"
            ]
          },
          "metadata": {
            "tags": [],
            "needs_background": "light"
          }
        }
      ]
    },
    {
      "cell_type": "code",
      "metadata": {
        "colab": {
          "base_uri": "https://localhost:8080/",
          "height": 281
        },
        "id": "DvRZv3o32ALp",
        "outputId": "2153bf56-b62e-40b9-db40-fff2a7a2119a"
      },
      "source": [
        "with torch.no_grad():\n",
        "  (image, label) = next(iter(val_loader))\n",
        "  image, label = image.to(device), label.to(device)\n",
        "  pred = model(image)\n",
        "  image, label, pred = (image.detach().cpu().numpy(), \n",
        "                      label.detach().cpu().numpy(), \n",
        "                      torch.round(pred).detach().cpu().numpy())\n",
        "\n",
        "plt.figure(figsize=(12,4))\n",
        "plt.subplot(1,3,1)\n",
        "plt.imshow(image[0,0,:,:], cmap='gray')\n",
        "plt.title('Image')\n",
        "plt.subplot(1,3,2)\n",
        "plt.imshow(label[0,0,:,:], cmap='gray')\n",
        "plt.title('Label')\n",
        "plt.subplot(1,3,3)\n",
        "plt.imshow(pred[0,0,:,:], cmap='gray')\n",
        "plt.title('Prediction')\n",
        "plt.show()"
      ],
      "execution_count": 17,
      "outputs": [
        {
          "output_type": "display_data",
          "data": {
            "image/png": "[encoded data removed]",
            "text/plain": [
              "<Figure size 864x288 with 3 Axes>"
            ]
          },
          "metadata": {
            "tags": [],
            "needs_background": "light"
          }
        }
      ]
    },
    {
      "cell_type": "code",
      "metadata": {
        "colab": {
          "base_uri": "https://localhost:8080/",
          "height": 284
        },
        "id": "0GOOUsoA2i4r",
        "outputId": "85bf92c3-1f25-4dae-b19a-35ec3505ff8f"
      },
      "source": [
        "_,label = next(iter(train_loader))"
      ],
      "execution_count": 61,
      "outputs": [
        {
          "output_type": "execute_result",
          "data": {
            "text/plain": [
              "<matplotlib.image.AxesImage at 0x7f225c4551d0>"
            ]
          },
          "metadata": {
            "tags": []
          },
          "execution_count": 61
        },
        {
          "output_type": "display_data",
          "data": {
            "image/png": "[encoded data removed]",
            "text/plain": [
              "<Figure size 432x288 with 1 Axes>"
            ]
          },
          "metadata": {
            "tags": [],
            "needs_background": "light"
          }
        }
      ]
    },
    {
      "cell_type": "code",
      "metadata": {
        "colab": {
          "base_uri": "https://localhost:8080/",
          "height": 232
        },
        "id": "m3LQBPZsVUbf",
        "outputId": "1b3975f3-b9b5-41b9-e357-80c4f77db2b8"
      },
      "source": [
        "test_label = label[4,0,:,:] + np.flipud(label[17,0,:,:])\n",
        "\n",
        "test_label = np.pad(test_label, ((0,0),(6,0)))\n",
        "\n",
        "plt.imshow(test_label)"
      ],
      "execution_count": 105,
      "outputs": [
        {
          "output_type": "error",
          "ename": "IndexError",
          "evalue": "ignored",
          "traceback": [
            "\u001b[0;31m---------------------------------------------------------------------------\u001b[0m",
            "\u001b[0;31mIndexError\u001b[0m                                Traceback (most recent call last)",
            "\u001b[0;32m<ipython-input-105-88fb2d229248>\u001b[0m in \u001b[0;36m<module>\u001b[0;34m()\u001b[0m\n\u001b[0;32m----> 1\u001b[0;31m \u001b[0mtest_label\u001b[0m \u001b[0;34m=\u001b[0m \u001b[0mlabel\u001b[0m\u001b[0;34m[\u001b[0m\u001b[0;36m4\u001b[0m\u001b[0;34m,\u001b[0m\u001b[0;36m0\u001b[0m\u001b[0;34m,\u001b[0m\u001b[0;34m:\u001b[0m\u001b[0;34m,\u001b[0m\u001b[0;34m:\u001b[0m\u001b[0;34m]\u001b[0m \u001b[0;34m+\u001b[0m \u001b[0mnp\u001b[0m\u001b[0;34m.\u001b[0m\u001b[0mflipud\u001b[0m\u001b[0;34m(\u001b[0m\u001b[0mlabel\u001b[0m\u001b[0;34m[\u001b[0m\u001b[0;36m17\u001b[0m\u001b[0;34m,\u001b[0m\u001b[0;36m0\u001b[0m\u001b[0;34m,\u001b[0m\u001b[0;34m:\u001b[0m\u001b[0;34m,\u001b[0m\u001b[0;34m:\u001b[0m\u001b[0;34m]\u001b[0m\u001b[0;34m)\u001b[0m\u001b[0;34m\u001b[0m\u001b[0;34m\u001b[0m\u001b[0m\n\u001b[0m\u001b[1;32m      2\u001b[0m \u001b[0;34m\u001b[0m\u001b[0m\n\u001b[1;32m      3\u001b[0m \u001b[0mtest_label\u001b[0m \u001b[0;34m=\u001b[0m \u001b[0mnp\u001b[0m\u001b[0;34m.\u001b[0m\u001b[0mpad\u001b[0m\u001b[0;34m(\u001b[0m\u001b[0mtest_label\u001b[0m\u001b[0;34m,\u001b[0m \u001b[0;34m(\u001b[0m\u001b[0;34m(\u001b[0m\u001b[0;36m0\u001b[0m\u001b[0;34m,\u001b[0m\u001b[0;36m0\u001b[0m\u001b[0;34m)\u001b[0m\u001b[0;34m,\u001b[0m\u001b[0;34m(\u001b[0m\u001b[0;36m6\u001b[0m\u001b[0;34m,\u001b[0m\u001b[0;36m0\u001b[0m\u001b[0;34m)\u001b[0m\u001b[0;34m)\u001b[0m\u001b[0;34m)\u001b[0m\u001b[0;34m\u001b[0m\u001b[0;34m\u001b[0m\u001b[0m\n\u001b[1;32m      4\u001b[0m \u001b[0;34m\u001b[0m\u001b[0m\n\u001b[1;32m      5\u001b[0m \u001b[0mplt\u001b[0m\u001b[0;34m.\u001b[0m\u001b[0mimshow\u001b[0m\u001b[0;34m(\u001b[0m\u001b[0mtest_label\u001b[0m\u001b[0;34m)\u001b[0m\u001b[0;34m\u001b[0m\u001b[0;34m\u001b[0m\u001b[0m\n",
            "\u001b[0;31mIndexError\u001b[0m: too many indices for array: array is 2-dimensional, but 4 were indexed"
          ]
        }
      ]
    },
    {
      "cell_type": "code",
      "metadata": {
        "id": "dffgRWepWXe9"
      },
      "source": [
        ""
      ],
      "execution_count": 111,
      "outputs": []
    },
    {
      "cell_type": "code",
      "metadata": {
        "colab": {
          "base_uri": "https://localhost:8080/",
          "height": 284
        },
        "id": "u8GKHNFXdRnj",
        "outputId": "27fd8b19-ec8b-4b96-90e1-b8dc9fd0397b"
      },
      "source": [
        "test_label_crop = test_label[:58,:52]\n",
        "\n",
        "plt.imshow(test_label_crop)"
      ],
      "execution_count": 112,
      "outputs": [
        {
          "output_type": "execute_result",
          "data": {
            "text/plain": [
              "<matplotlib.image.AxesImage at 0x7f225499e3d0>"
            ]
          },
          "metadata": {
            "tags": []
          },
          "execution_count": 112
        },
        {
          "output_type": "display_data",
          "data": {
            "image/png": "[encoded data removed]",
            "text/plain": [
              "<Figure size 432x288 with 1 Axes>"
            ]
          },
          "metadata": {
            "tags": [],
            "needs_background": "light"
          }
        }
      ]
    },
    {
      "cell_type": "code",
      "metadata": {
        "id": "CCAQNue2XPh6"
      },
      "source": [
        "label_components, num_feat = measurements.label(test_label_crop)"
      ],
      "execution_count": 114,
      "outputs": []
    },
    {
      "cell_type": "code",
      "metadata": {
        "colab": {
          "base_uri": "https://localhost:8080/",
          "height": 284
        },
        "id": "HzTEM0sYXZ4F",
        "outputId": "8d65c760-8633-4fb1-de11-ceb5e4e0b237"
      },
      "source": [
        "plt.imshow(label_components)"
      ],
      "execution_count": 119,
      "outputs": [
        {
          "output_type": "execute_result",
          "data": {
            "text/plain": [
              "<matplotlib.image.AxesImage at 0x7f22549089d0>"
            ]
          },
          "metadata": {
            "tags": []
          },
          "execution_count": 119
        },
        {
          "output_type": "display_data",
          "data": {
            "image/png": "[encoded data removed]",
            "text/plain": [
              "<Figure size 432x288 with 1 Axes>"
            ]
          },
          "metadata": {
            "tags": [],
            "needs_background": "light"
          }
        }
      ]
    },
    {
      "cell_type": "code",
      "metadata": {
        "id": "EjlwB7TkX_FR"
      },
      "source": [
        "label_tensor = torch.tensor(label_components)"
      ],
      "execution_count": 125,
      "outputs": []
    },
    {
      "cell_type": "code",
      "metadata": {
        "id": "dGzFyoHIevBB"
      },
      "source": [
        "label_tensor[:,:] = torch.tensor(label_components)"
      ],
      "execution_count": 130,
      "outputs": []
    },
    {
      "cell_type": "code",
      "metadata": {
        "id": "lk86nhJriihl"
      },
      "source": [
        ""
      ],
      "execution_count": null,
      "outputs": []
    }
  ]
}