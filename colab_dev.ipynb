{
  "nbformat": 4,
  "nbformat_minor": 0,
  "metadata": {
    "colab": {
      "name": "colab_dev.ipynb",
      "provenance": [],
      "collapsed_sections": [],
      "authorship_tag": "ABX9TyO/H0kgbGI6rC3COJjGB9Rv",
      "include_colab_link": true
    },
    "kernelspec": {
      "name": "python3",
      "display_name": "Python 3"
    },
    "language_info": {
      "name": "python"
    },
    "accelerator": "GPU"
  },
  "cells": [
    {
      "cell_type": "markdown",
      "metadata": {
        "id": "view-in-github",
        "colab_type": "text"
      },
      "source": [
        "<a href=\"https://colab.research.google.com/github/liamchalcroft/RectAngle/blob/main/colab_dev.ipynb\" target=\"_parent\"><img src=\"https://colab.research.google.com/assets/colab-badge.svg\" alt=\"Open In Colab\"/></a>"
      ]
    },
    {
      "cell_type": "markdown",
      "metadata": {
        "id": "6A66Z-3v7Wii"
      },
      "source": [
        "Notebook for basic prototyping of work before porting to full script for testing\n",
        "\n",
        "Note: Try importing lambda layer"
      ]
    },
    {
      "cell_type": "code",
      "metadata": {
        "colab": {
          "base_uri": "https://localhost:8080/"
        },
        "id": "SeoCPh1e7OWU",
        "outputId": "a6e98ba2-b3bb-4bb7-cd41-07a959dea1d4"
      },
      "source": [
        "! git clone https://49064dc98b2d46c3874378ed4375bf1b5938d905@github.com/liamchalcroft/RectAngle.git"
      ],
      "execution_count": 1,
      "outputs": [
        {
          "output_type": "stream",
          "text": [
            "Cloning into 'RectAngle'...\n",
            "remote: Enumerating objects: 14, done.\u001b[K\n",
            "remote: Counting objects: 100% (14/14), done.\u001b[K\n",
            "remote: Compressing objects: 100% (14/14), done.\u001b[K\n",
            "remote: Total 14 (delta 3), reused 0 (delta 0), pack-reused 0\u001b[K\n",
            "Unpacking objects: 100% (14/14), done.\n"
          ],
          "name": "stdout"
        }
      ]
    },
    {
      "cell_type": "code",
      "metadata": {
        "colab": {
          "base_uri": "https://localhost:8080/"
        },
        "id": "4wIqq4er72H9",
        "outputId": "fefc7094-6567-46a3-a224-532536b63e49"
      },
      "source": [
        "! python ./RectAngle/data.py"
      ],
      "execution_count": 2,
      "outputs": [
        {
          "output_type": "stream",
          "text": [
            "Downloading data...\n",
            "Done.\n",
            "Image and label data downloaded: dataset70-200.h5\n",
            "  with 200 cases with a total of 5346 frames and 16038 labels.\n",
            "\n",
            "How many example frames would you like to visualise, e.g. 10?\n",
            "0\n"
          ],
          "name": "stdout"
        }
      ]
    },
    {
      "cell_type": "code",
      "metadata": {
        "id": "j9yrCXj69bbh"
      },
      "source": [
        "import h5py\n",
        "import matplotlib.pyplot as plt\n",
        "from torch import nn\n",
        "import torch\n",
        "import random\n",
        "import numpy as np"
      ],
      "execution_count": 3,
      "outputs": []
    },
    {
      "cell_type": "code",
      "metadata": {
        "id": "By1cZ17l9rZJ"
      },
      "source": [
        "f = h5py.File('dataset70-200.h5', 'r')"
      ],
      "execution_count": 4,
      "outputs": []
    },
    {
      "cell_type": "code",
      "metadata": {
        "colab": {
          "base_uri": "https://localhost:8080/",
          "height": 268
        },
        "id": "B-1BkY1U-fT7",
        "outputId": "5f4fa643-bb51-434d-9aad-7d8a5c45d2c6"
      },
      "source": [
        "plt.figure()\n",
        "plt.subplot(2,3,2)\n",
        "plt.imshow(f['frame_0000_000'], cmap='gray')\n",
        "plt.subplot(2,3,4)\n",
        "plt.imshow(f['label_0000_000_00'], cmap='gray')\n",
        "plt.subplot(2,3,5)\n",
        "plt.imshow(f['label_0000_000_01'], cmap='gray')\n",
        "plt.subplot(2,3,6)\n",
        "plt.imshow(f['label_0000_000_02'], cmap='gray')\n",
        "plt.show()"
      ],
      "execution_count": 5,
      "outputs": [
        {
          "output_type": "display_data",
          "data": {
            "image/png": "[encoded data removed]",
            "text/plain": [
              "<Figure size 432x288 with 4 Axes>"
            ]
          },
          "metadata": {
            "tags": [],
            "needs_background": "light"
          }
        }
      ]
    },
    {
      "cell_type": "code",
      "metadata": {
        "id": "iJSD3yN7_VlY"
      },
      "source": [
        "class UNetBlock(nn.Module):\n",
        "  def __init__(self, ch_in, n_feat, device='cpu'):\n",
        "\n",
        "    super().__init__()\n",
        "\n",
        "    self.conv1 = torch.nn.Sequential(\n",
        "        nn.Conv2d(in_channels=ch_in, out_channels=n_feat, \n",
        "                  kernel_size=3, padding=1, bias=False).to(device),\n",
        "        nn.ReLU(inplace=True).to(device),\n",
        "        nn.BatchNorm2d(num_features=n_feat).to(device))\n",
        "    \n",
        "    self.conv2 = torch.nn.Sequential(\n",
        "        nn.Conv2d(in_channels=n_feat, out_channels=n_feat, \n",
        "                  kernel_size=3, padding=1, bias=False).to(device),\n",
        "        nn.ReLU(inplace=True).to(device),\n",
        "        nn.BatchNorm2d(num_features=n_feat).to(device)\n",
        "        )\n",
        "    \n",
        "    self.conv1.to(device)\n",
        "    self.conv2.to(device)\n",
        "    \n",
        "\n",
        "  def forward(self, x):\n",
        "    x = self.conv1(x)\n",
        "    x = x + self.conv2(x)\n",
        "    return x\n",
        "\n",
        "\n",
        "class UNet(nn.Module):\n",
        "  def __init__(self, device='cpu', ch_in=1, ch_out=1,\n",
        "               first_layer=16, n_layers=4):\n",
        "    \n",
        "    super().__init__()\n",
        "\n",
        "    self.device = device\n",
        "    \n",
        "    enc_list = []\n",
        "    down_list = []\n",
        "\n",
        "    enc_list.append(UNetBlock(ch_in, first_layer, device).to(device))\n",
        "    down_list.append(nn.MaxPool2d(kernel_size=2, stride=2).to(device))\n",
        "\n",
        "    for i in range(n_layers-1):\n",
        "      enc_list.append(UNetBlock(first_layer*(2**i), \n",
        "                                          first_layer*(2**(i+1)),\n",
        "                                     device).to(device))\n",
        "      down_list.append(nn.MaxPool2d(kernel_size=2, stride=2).to(device))\n",
        "\n",
        "    self.enc_list = nn.ModuleList(enc_list)\n",
        "    self.down_list = nn.ModuleList(down_list)\n",
        "      \n",
        "    self.bottleneck = UNetBlock(first_layer*(2**(n_layers-1)),\n",
        "                                     first_layer*(2**(n_layers)),\n",
        "                                     device).to(device)\n",
        "\n",
        "    dec_list = []\n",
        "    up_list = []\n",
        "\n",
        "    for i in range(n_layers):\n",
        "      up_list.append(nn.ConvTranspose2d(first_layer*(2**(n_layers-(i))), \n",
        "                                        first_layer*(2**(n_layers-(i+1))), \n",
        "                                        kernel_size=2, stride=2).to(device))\n",
        "      dec_list.append(UNetBlock(first_layer*(2**(n_layers-(i))), \n",
        "                                     first_layer*(2**(n_layers-(i+1))),\n",
        "                                     device).to(device))\n",
        "      \n",
        "    self.dec_list = nn.ModuleList(dec_list)\n",
        "    self.up_list = nn.ModuleList(up_list)\n",
        "      \n",
        "    self.head = nn.Conv2d(in_channels=first_layer, out_channels=ch_out, \n",
        "                          kernel_size=1).to(device)\n",
        "    \n",
        "    self.enc_list.to(device)\n",
        "    self.down_list.to(device)\n",
        "    self.bottleneck.to(device)\n",
        "    self.dec_list.to(device)\n",
        "    self.up_list.to(device)\n",
        "    self.head.to(device)\n",
        "    \n",
        "    \n",
        "  def forward(self, x):\n",
        "    # pad images to (64,64)\n",
        "    shape = list(x.shape)\n",
        "    shape[2] = shape[3] = 64\n",
        "    pad_x = torch.zeros(shape)\n",
        "    pad_x[:,:,:58,:52] = x\n",
        "    x = pad_x.to(self.device)\n",
        "\n",
        "    enc_features = []\n",
        "    for i in range(len(self.enc_list)):\n",
        "      x = self.enc_list[i](x)\n",
        "      enc_features.append(x)\n",
        "      x = self.down_list[i](x)\n",
        "    \n",
        "    x = self.bottleneck(x)\n",
        "\n",
        "    enc_features = enc_features[::-1]\n",
        "\n",
        "    for i in range(len(self.dec_list)):\n",
        "      x = self.up_list[i](x)\n",
        "      x = torch.cat((x, enc_features[i]), dim=1)\n",
        "      x = self.dec_list[i](x)\n",
        "\n",
        "    x = self.head(x)\n",
        "\n",
        "    # crop to original size of (58,52)\n",
        "    x = x[:,:,:58,:52]\n",
        "    \n",
        "    return torch.sigmoid(x)\n",
        "\n",
        "\n",
        "class DiceLoss(nn.Module):\n",
        "    # Standard Dice loss, with variable smoothing constant\n",
        "    def __init__(self, smooth=1):\n",
        "        super().__init__()\n",
        "        self.smooth = smooth\n",
        "\n",
        "    def forward(self, inputs, targets):\n",
        "        inputs = torch.round(inputs)\n",
        "        targets = torch.round(targets)\n",
        "\n",
        "        inputs = inputs.view(-1)\n",
        "        targets = targets.view(-1)\n",
        "\n",
        "        intersection = torch.sum(inputs * targets)\n",
        "        dice = ((2. * intersection) + self.smooth) / \\\n",
        "                (torch.sum(inputs) + torch.sum(targets) + self.smooth)\n",
        "\n",
        "        return (1 - dice)"
      ],
      "execution_count": 196,
      "outputs": []
    },
    {
      "cell_type": "code",
      "metadata": {
        "id": "qt-fbfrKkcZ0"
      },
      "source": [
        "def train_val_test(file, ratio=(0.8, 0.2, 0)):\n",
        "  keys = [key.split('_') for key in file.keys()]\n",
        "  num_subjects = int(keys[-1][1])\n",
        "  assert 1.0 * sum(ratio) == 1.0\n",
        "  sum_ratio = list(ratio)\n",
        "  if sum_ratio[1] > 0:\n",
        "    sum_ratio[1] += sum_ratio[0]\n",
        "  if sum_ratio[2] > 0:\n",
        "    sum_ratio[2] += sum_ratio[1]\n",
        "  scaled_ratio = [int(round(val * num_subjects)) for val in sum_ratio]\n",
        "\n",
        "  ix = np.linspace(0, num_subjects, num_subjects+1, dtype=int)\n",
        "  train_ix = ix[:scaled_ratio[0]]\n",
        "  if scaled_ratio[1] > 0:\n",
        "    val_ix = ix[scaled_ratio[0]:scaled_ratio[1]]\n",
        "  else:\n",
        "    val_ix = 0\n",
        "  if scaled_ratio[2] > 0:\n",
        "    test_ix = ix[scaled_ratio[1]:scaled_ratio[2]]\n",
        "  else:\n",
        "    test_ix = 0\n",
        "\n",
        "  return train_ix, val_ix, test_ix\n",
        "\n",
        "\n",
        "def key_gen(file, ix):\n",
        "  keys = list(file.keys())\n",
        "  split_keys = [key.split('_') for key in keys]\n",
        "  new_keys = []\n",
        "\n",
        "  for i, key in enumerate(split_keys):\n",
        "    if int(key[1]) in ix:\n",
        "      new_keys.append(keys[i])\n",
        "\n",
        "  return new_keys\n",
        "\n",
        "\n",
        "class H5DataLoader(torch.utils.data.Dataset):\n",
        "  def __init__(self, file, keys=None):\n",
        "    \n",
        "    super().__init__()\n",
        "\n",
        "    self.file = file\n",
        "    if not keys:\n",
        "      keys = list(file.keys())\n",
        "    split_keys = [key.split('_') for key in keys]\n",
        "    start_subj = int(split_keys[0][1])\n",
        "    last_subj = int(split_keys[-1][1])\n",
        "    self.num_subjects = last_subj - start_subj\n",
        "    self.subjects = np.linspace(start_subj, last_subj, \n",
        "                                self.num_subjects+1, dtype=int)\n",
        "    num_frames = []\n",
        "    for subj in range(start_subj, last_subj):\n",
        "      subj_string = str(subj).zfill(4)\n",
        "      frames = [key[2] for key in split_keys if key[1] == subj_string]\n",
        "      num_frames.append(int(frames[-1]))\n",
        "\n",
        "    self.num_frames = num_frames\n",
        "\n",
        "  def __len__(self):\n",
        "        return self.num_subjects\n",
        "  \n",
        "  def __getitem__(self, index):\n",
        "    subj_ix = self.subjects[index]\n",
        "    frame_ix = random.randint(0, self.num_frames[index])\n",
        "    label_ix = random.randint(0, 2)\n",
        "    image = torch.unsqueeze(torch.tensor(\n",
        "        self.file['frame_%04d_%03d' % (subj_ix, \n",
        "                                       frame_ix\n",
        "                                       )][()].astype('float32')), dim=0)\n",
        "    label = torch.unsqueeze(torch.tensor(\n",
        "        self.file['label_%04d_%03d_%02d' % (subj_ix, \n",
        "                                            frame_ix, \n",
        "                                            label_ix\n",
        "                                            )][()].astype('float32')), dim=0)\n",
        "    return(image, label)"
      ],
      "execution_count": 271,
      "outputs": []
    },
    {
      "cell_type": "code",
      "metadata": {
        "id": "r4IlZPh9KsFr"
      },
      "source": [
        "model = UNet(n_layers=4, device='cuda')"
      ],
      "execution_count": 272,
      "outputs": []
    },
    {
      "cell_type": "code",
      "metadata": {
        "id": "-R1GNCoPKyUA"
      },
      "source": [
        "# print(model)"
      ],
      "execution_count": 273,
      "outputs": []
    },
    {
      "cell_type": "code",
      "metadata": {
        "id": "jmYX77T2QBjo"
      },
      "source": [
        "# ! pip install lambda-networks"
      ],
      "execution_count": 274,
      "outputs": []
    },
    {
      "cell_type": "code",
      "metadata": {
        "id": "9jPL9L0bOD-K"
      },
      "source": [
        "# Either figure out lambda import or write from scratch based on holocron code"
      ],
      "execution_count": 275,
      "outputs": []
    },
    {
      "cell_type": "code",
      "metadata": {
        "id": "3iEg95WqrWl9"
      },
      "source": [
        "if torch.cuda.is_available():\n",
        "  device = torch.device('cuda')\n",
        "  torch.backends.cudnn.benchmark = True\n",
        "else:\n",
        "  device = torch.device('cpu')\n",
        "\n",
        "model = UNet(n_layers=3, device=device)"
      ],
      "execution_count": 276,
      "outputs": []
    },
    {
      "cell_type": "code",
      "metadata": {
        "id": "eZoDjofxENZT"
      },
      "source": [
        "train_ix, val_ix, _ = train_val_test(f)\n",
        "\n",
        "train_keys, val_keys = key_gen(f, train_ix), key_gen(f, val_ix)\n",
        "\n",
        "train_data, val_data = H5DataLoader(f, train_keys), H5DataLoader(f, val_keys)\n",
        "\n",
        "train_loader = torch.utils.data.DataLoader(train_data, batch_size=128, \n",
        "                                           shuffle=True, num_workers=0)\n",
        "\n",
        "val_loader = torch.utils.data.DataLoader(val_data, batch_size=16, \n",
        "                                         shuffle=True, num_workers=0)"
      ],
      "execution_count": 312,
      "outputs": []
    },
    {
      "cell_type": "code",
      "metadata": {
        "id": "UJrIQzZmTjOG"
      },
      "source": [
        "dice_loss = DiceLoss()\n",
        "\n",
        "dice_val = DiceLoss(smooth=0)\n",
        "\n",
        "optim = torch.optim.Adam(model.parameters())"
      ],
      "execution_count": 313,
      "outputs": []
    },
    {
      "cell_type": "code",
      "metadata": {
        "id": "NG8TEk-PU6tq"
      },
      "source": [
        "nb_epoch = 100\n",
        "val_interval = 2\n",
        "\n",
        "loss_epoch = []\n",
        "loss_log = []\n",
        "dice_log = []"
      ],
      "execution_count": 314,
      "outputs": []
    },
    {
      "cell_type": "code",
      "metadata": {
        "colab": {
          "base_uri": "https://localhost:8080/"
        },
        "id": "kKqepZGtVOP8",
        "outputId": "43793a8a-bf08-485d-8e5e-4bcebf53e2c6"
      },
      "source": [
        "for epoch in range(nb_epoch):\n",
        "  for (input, label) in train_loader:\n",
        "    input, label = input.to(device), label.to(device)\n",
        "\n",
        "    optim.zero_grad()\n",
        "    pred = model(input)\n",
        "    loss = dice_loss(pred, label)\n",
        "    loss.backward()\n",
        "    optim.step()\n",
        "\n",
        "    loss_epoch.append(loss.item())\n",
        "\n",
        "  mean_loss = np.mean(loss_epoch)\n",
        "  loss_log.append(mean_loss)\n",
        "  print('Epoch #{}: Mean Dice Loss: {}'.format(epoch, mean_loss))\n",
        "\n",
        "  if epoch % val_interval == 0:\n",
        "    with torch.no_grad():\n",
        "      for input, label in val_loader:\n",
        "        input, label = input.to(device), label.to(device)\n",
        "\n",
        "        pred = model(input)\n",
        "        dice_metric = dice_val(pred, label)\n",
        "        dice_metric = 1 - dice_metric.item()\n",
        "\n",
        "    dice_log.append(dice_metric)\n",
        "    print('Mean Validation Dice: {}'.format(dice_metric))\n",
        "\n",
        "print('\\nTraining Complete')"
      ],
      "execution_count": 315,
      "outputs": [
        {
          "output_type": "stream",
          "text": [
            "Epoch #0: Mean Dice Loss: 0.789190948009491\n",
            "Mean Validation Dice: 0.31962621212005615\n",
            "Epoch #1: Mean Dice Loss: 0.7724069952964783\n",
            "Epoch #2: Mean Dice Loss: 0.7721060911814371\n",
            "Mean Validation Dice: 0.27520322799682617\n",
            "Epoch #3: Mean Dice Loss: 0.7706146985292435\n",
            "Epoch #4: Mean Dice Loss: 0.7772668421268463\n",
            "Mean Validation Dice: 0.25110924243927\n",
            "Epoch #5: Mean Dice Loss: 0.7769165088733038\n",
            "Epoch #6: Mean Dice Loss: 0.7771379351615906\n",
            "Mean Validation Dice: 0.05518299341201782\n",
            "Epoch #7: Mean Dice Loss: 0.7777713611721992\n",
            "Epoch #8: Mean Dice Loss: 0.7777251866128709\n",
            "Mean Validation Dice: 0.1288454532623291\n",
            "Epoch #9: Mean Dice Loss: 0.7761658132076263\n",
            "Epoch #10: Mean Dice Loss: 0.7751109870997342\n",
            "Mean Validation Dice: 0.11548364162445068\n",
            "Epoch #11: Mean Dice Loss: 0.7744557981689771\n",
            "Epoch #12: Mean Dice Loss: 0.7734167048564324\n",
            "Mean Validation Dice: 0.24243378639221191\n",
            "Epoch #13: Mean Dice Loss: 0.772016601903098\n",
            "Epoch #14: Mean Dice Loss: 0.7721433818340302\n",
            "Mean Validation Dice: 0.20312368869781494\n",
            "Epoch #15: Mean Dice Loss: 0.7724161520600319\n",
            "Epoch #16: Mean Dice Loss: 0.7729200668194715\n",
            "Mean Validation Dice: 0.30983102321624756\n",
            "Epoch #17: Mean Dice Loss: 0.7721895045704312\n",
            "Epoch #18: Mean Dice Loss: 0.7736575650541406\n",
            "Mean Validation Dice: 0.16182070970535278\n",
            "Epoch #19: Mean Dice Loss: 0.7737008303403854\n",
            "Epoch #20: Mean Dice Loss: 0.7729039887587229\n",
            "Mean Validation Dice: 0.19546812772750854\n",
            "Epoch #21: Mean Dice Loss: 0.7739612433043394\n",
            "Epoch #22: Mean Dice Loss: 0.7755455245142397\n",
            "Mean Validation Dice: 0.2666770815849304\n",
            "Epoch #23: Mean Dice Loss: 0.7748240580161413\n",
            "Epoch #24: Mean Dice Loss: 0.7748107552528382\n",
            "Mean Validation Dice: 0.1619328260421753\n",
            "Epoch #25: Mean Dice Loss: 0.7758152863154044\n",
            "Epoch #26: Mean Dice Loss: 0.7755095186056914\n",
            "Mean Validation Dice: 0.27361607551574707\n",
            "Epoch #27: Mean Dice Loss: 0.7765720550503049\n",
            "Epoch #28: Mean Dice Loss: 0.7759176163837828\n",
            "Mean Validation Dice: 0.24400120973587036\n",
            "Epoch #29: Mean Dice Loss: 0.7756310343742371\n",
            "Epoch #30: Mean Dice Loss: 0.7763252883188186\n",
            "Mean Validation Dice: 0.2767990827560425\n",
            "Epoch #31: Mean Dice Loss: 0.7762001967057586\n",
            "Epoch #32: Mean Dice Loss: 0.7761837993607377\n",
            "Mean Validation Dice: 0.28386425971984863\n",
            "Epoch #33: Mean Dice Loss: 0.7767585156595006\n",
            "Epoch #34: Mean Dice Loss: 0.7767165924821581\n",
            "Mean Validation Dice: 0.21244460344314575\n",
            "Epoch #35: Mean Dice Loss: 0.7762515230311288\n",
            "Epoch #36: Mean Dice Loss: 0.7764730614584845\n",
            "Mean Validation Dice: 0.2419416904449463\n",
            "Epoch #37: Mean Dice Loss: 0.7766856927620737\n",
            "Epoch #38: Mean Dice Loss: 0.7771572356040661\n",
            "Mean Validation Dice: 0.23816514015197754\n",
            "Epoch #39: Mean Dice Loss: 0.7773176752030849\n",
            "Epoch #40: Mean Dice Loss: 0.7767591076653179\n",
            "Mean Validation Dice: 0.21387755870819092\n",
            "Epoch #41: Mean Dice Loss: 0.7765830570743197\n",
            "Epoch #42: Mean Dice Loss: 0.7764682617298392\n",
            "Mean Validation Dice: 0.1735849380493164\n",
            "Epoch #43: Mean Dice Loss: 0.7769492803649469\n",
            "Epoch #44: Mean Dice Loss: 0.7764918148517609\n",
            "Mean Validation Dice: 0.2756490707397461\n",
            "Epoch #45: Mean Dice Loss: 0.7760108949049659\n",
            "Epoch #46: Mean Dice Loss: 0.7767268159288041\n",
            "Mean Validation Dice: 0.22184032201766968\n",
            "Epoch #47: Mean Dice Loss: 0.7766235154122114\n",
            "Epoch #48: Mean Dice Loss: 0.7772585378617657\n",
            "Mean Validation Dice: 0.2595227360725403\n",
            "Epoch #49: Mean Dice Loss: 0.7773968881368637\n",
            "Epoch #50: Mean Dice Loss: 0.7773597281353146\n",
            "Mean Validation Dice: 0.17157995700836182\n",
            "Epoch #51: Mean Dice Loss: 0.7772107657331687\n",
            "Epoch #52: Mean Dice Loss: 0.7774772565319853\n",
            "Mean Validation Dice: 0.20726650953292847\n",
            "Epoch #53: Mean Dice Loss: 0.7773442135916816\n",
            "Epoch #54: Mean Dice Loss: 0.7776842577890917\n",
            "Mean Validation Dice: 0.10508441925048828\n",
            "Epoch #55: Mean Dice Loss: 0.7782681664185864\n",
            "Epoch #56: Mean Dice Loss: 0.7782850584440064\n",
            "Mean Validation Dice: 0.2730875611305237\n",
            "Epoch #57: Mean Dice Loss: 0.7780382217004381\n",
            "Epoch #58: Mean Dice Loss: 0.7781208920276771\n",
            "Mean Validation Dice: 0.16031062602996826\n",
            "Epoch #59: Mean Dice Loss: 0.7778873632351557\n",
            "Epoch #60: Mean Dice Loss: 0.7779255729229724\n",
            "Mean Validation Dice: 0.33813512325286865\n",
            "Epoch #61: Mean Dice Loss: 0.7779824700086347\n",
            "Epoch #62: Mean Dice Loss: 0.7779422156394474\n",
            "Mean Validation Dice: 0.16545891761779785\n",
            "Epoch #63: Mean Dice Loss: 0.7780118575319648\n",
            "Epoch #64: Mean Dice Loss: 0.7775342354407677\n",
            "Mean Validation Dice: 0.2613130807876587\n",
            "Epoch #65: Mean Dice Loss: 0.7771602142037768\n",
            "Epoch #66: Mean Dice Loss: 0.7773597356098801\n",
            "Mean Validation Dice: 0.19795668125152588\n",
            "Epoch #67: Mean Dice Loss: 0.7774088873582727\n",
            "Epoch #68: Mean Dice Loss: 0.7775130427401998\n",
            "Mean Validation Dice: 0.22954487800598145\n",
            "Epoch #69: Mean Dice Loss: 0.7775610425642558\n",
            "Epoch #70: Mean Dice Loss: 0.77775136601757\n",
            "Mean Validation Dice: 0.2511727809906006\n",
            "Epoch #71: Mean Dice Loss: 0.7778498617311319\n",
            "Epoch #72: Mean Dice Loss: 0.7779614835569303\n",
            "Mean Validation Dice: 0.15015220642089844\n",
            "Epoch #73: Mean Dice Loss: 0.777727181444297\n",
            "Epoch #74: Mean Dice Loss: 0.7778116222222646\n",
            "Mean Validation Dice: 0.20905065536499023\n",
            "Epoch #75: Mean Dice Loss: 0.7778808054955382\n",
            "Epoch #76: Mean Dice Loss: 0.7776421687819741\n",
            "Mean Validation Dice: 0.23446547985076904\n",
            "Epoch #77: Mean Dice Loss: 0.7773981335071417\n",
            "Epoch #78: Mean Dice Loss: 0.7771902269200434\n",
            "Mean Validation Dice: 0.2477191686630249\n",
            "Epoch #79: Mean Dice Loss: 0.777246768400073\n",
            "Epoch #80: Mean Dice Loss: 0.7769806311454301\n",
            "Mean Validation Dice: 0.16689234972000122\n",
            "Epoch #81: Mean Dice Loss: 0.7770177870988846\n",
            "Epoch #82: Mean Dice Loss: 0.7772677953702858\n",
            "Mean Validation Dice: 0.32662487030029297\n",
            "Epoch #83: Mean Dice Loss: 0.7771041230076835\n",
            "Epoch #84: Mean Dice Loss: 0.777471146513434\n",
            "Mean Validation Dice: 0.1947295069694519\n",
            "Epoch #85: Mean Dice Loss: 0.7774846865687259\n",
            "Epoch #86: Mean Dice Loss: 0.777122864435459\n",
            "Mean Validation Dice: 0.1606365442276001\n",
            "Epoch #87: Mean Dice Loss: 0.7771981104531072\n",
            "Epoch #88: Mean Dice Loss: 0.7769253759571676\n",
            "Mean Validation Dice: 0.1588587760925293\n",
            "Epoch #89: Mean Dice Loss: 0.7769778496689267\n",
            "Epoch #90: Mean Dice Loss: 0.7769099677002037\n",
            "Mean Validation Dice: 0.2394755482673645\n",
            "Epoch #91: Mean Dice Loss: 0.7770155435023101\n",
            "Epoch #92: Mean Dice Loss: 0.7770851427508939\n",
            "Mean Validation Dice: 0.27528828382492065\n",
            "Epoch #93: Mean Dice Loss: 0.7769612663603843\n",
            "Epoch #94: Mean Dice Loss: 0.7769356884454426\n",
            "Mean Validation Dice: 0.20576202869415283\n",
            "Epoch #95: Mean Dice Loss: 0.7769920760765672\n",
            "Epoch #96: Mean Dice Loss: 0.7767056165282259\n",
            "Mean Validation Dice: 0.2726547122001648\n",
            "Epoch #97: Mean Dice Loss: 0.7764109357887384\n",
            "Epoch #98: Mean Dice Loss: 0.7764447211015104\n",
            "Mean Validation Dice: 0.20995986461639404\n",
            "Epoch #99: Mean Dice Loss: 0.776517903804779\n",
            "\n",
            "Training Complete\n"
          ],
          "name": "stdout"
        }
      ]
    },
    {
      "cell_type": "code",
      "metadata": {
        "colab": {
          "base_uri": "https://localhost:8080/",
          "height": 279
        },
        "id": "YPlUswRD0Dkv",
        "outputId": "990af148-cc6a-4f61-cdae-39705c0ac0bf"
      },
      "source": [
        "plt.figure()\n",
        "plt.plot(np.linspace(0,nb_epoch,nb_epoch), loss_log)\n",
        "plt.plot(np.linspace(0,nb_epoch,nb_epoch//2), dice_log)\n",
        "plt.xlabel('Epoch #')\n",
        "plt.legend(['Train Loss', 'Validation Dice'])\n",
        "plt.show()"
      ],
      "execution_count": 320,
      "outputs": [
        {
          "output_type": "display_data",
          "data": {
            "image/png": "[encoded data removed]",
            "text/plain": [
              "<Figure size 432x288 with 1 Axes>"
            ]
          },
          "metadata": {
            "tags": [],
            "needs_background": "light"
          }
        }
      ]
    },
    {
      "cell_type": "code",
      "metadata": {
        "id": "DvRZv3o32ALp"
      },
      "source": [
        ""
      ],
      "execution_count": null,
      "outputs": []
    }
  ]
}