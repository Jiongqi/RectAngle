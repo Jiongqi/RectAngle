{
  "nbformat": 4,
  "nbformat_minor": 0,
  "metadata": {
    "colab": {
      "name": "colab_from_package.ipynb",
      "provenance": [],
      "collapsed_sections": [],
      "include_colab_link": true
    },
    "kernelspec": {
      "name": "python39264bitrectangleconda3a4fc77f8ee64c8eb07c892a5df7403b",
      "display_name": "Python 3.7.10 64-bit ('rectangle': conda)"
    },
    "language_info": {
      "name": "python",
      "version": "3.7.10-final"
    },
    "accelerator": "GPU",
    "metadata": {
      "interpreter": {
        "hash": "5d324b7899ecf630bbe39794f36efaf2198891d8a90bcea2795bfcec9388ce9d"
      }
    }
  },
  "cells": [
    {
      "cell_type": "markdown",
      "metadata": {
        "id": "view-in-github",
        "colab_type": "text"
      },
      "source": [
        "<a href=\"https://colab.research.google.com/github/liamchalcroft/RectAngle/blob/main/demo.ipynb\" target=\"_parent\"><img src=\"https://colab.research.google.com/assets/colab-badge.svg\" alt=\"Open In Colab\"/></a>"
      ]
    },
    {
      "cell_type": "code",
      "metadata": {
        "id": "UfxHGeAotV3m"
      },
      "source": [
        "! git clone https://github.com/liamchalcroft/RectAngle.git"
      ],
      "execution_count": null,
      "outputs": []
    },
    {
      "cell_type": "code",
      "metadata": {
        "id": "G4WjDJMf2rPg"
      },
      "source": [
        "! pip uninstall rectangle -y; cd RectAngle; git pull; pip install . -q"
      ],
      "execution_count": null,
      "outputs": []
    },
    {
      "cell_type": "code",
      "metadata": {
        "id": "Y3GKSeZathD-"
      },
      "source": [
        "import rectangle as rect\n",
        "import h5py\n",
        "import matplotlib.pyplot as plt\n",
        "import torch\n",
        "from scipy.stats import linregress\n",
        "import numpy as np\n",
        "from datetime import date"
      ],
      "execution_count": null,
      "outputs": []
    },
    {
      "cell_type": "code",
      "metadata": {
        "id": "58WIlnMTuBBm"
      },
      "source": [
        "# f = h5py.File('dataset70-200.h5', 'r')\n",
        "# f = <----- Your data here"
      ],
      "execution_count": null,
      "outputs": []
    },
    {
      "cell_type": "code",
      "metadata": {
        "id": "XLvY2BxiuGOc"
      },
      "source": [
        "if torch.cuda.is_available():\n",
        "  device = torch.device('cuda')\n",
        "  torch.backends.cudnn.benchmark = True\n",
        "else:\n",
        "  device = torch.device('cpu')\n",
        "\n",
        "# model_ = rect.model.networks.UNet(n_layers=5, device=device, gate='attention')\n",
        "# model_ = rect.model.networks.UNet(n_layers=5, device=device, gate=None)"
      ],
      "execution_count": null,
      "outputs": []
    },
    {
      "cell_type": "code",
      "metadata": {
        "id": "3xDt6p8PuVGw"
      },
      "source": [
        "train_ix, test_ix, _ = rect.utils.io.train_val_test(f, ratio=(0.8,0.2,0))\n",
        "\n",
        "train_keys, test_keys = rect.utils.io.key_gen(f, train_ix), \\\n",
        "                        rect.utils.io.key_gen(f, test_ix)\n",
        "\n",
        "train_data,  test_data = rect.utils.io.H5DataLoader(f, train_keys,'random'), \\\n",
        "                          rect.utils.io.H5DataLoader(f, test_keys, label='vote')\n",
        "\n",
        "test_plot_data = rect.utils.io.TestPlotLoader(f, test_keys, label='vote')"
      ],
      "execution_count": null,
      "outputs": []
    },
    {
      "cell_type": "code",
      "metadata": {
        "id": "PfIezxTUWyn_",
        "tags": [
          "outputPrepend"
        ]
      },
      "source": [
        "model_rand = rect.model.networks.UNet(n_layers=5, device=device, gate='attention')\n",
        "train_data_rand = rect.utils.io.H5DataLoader(f, train_keys, label='random')\n",
        "trainer_rand = rect.utils.train.Trainer(model_rand, ensemble=5, outdir='./random')\n",
        "trainer_rand.train(train_data, train_pre=[rect.utils.transforms.z_score(), rect.utils.transforms.Flip(), rect.utils.transforms.Affine(), rect.utils.transforms.SpeckleNoise()], \n",
        "              val_pre=[rect.utils.transforms.z_score()])\n",
        "trainer_rand.test(test_data, test_pre=[rect.utils.transforms.z_score()], \n",
        "             test_post=[rect.utils.transforms.Binary(), rect.utils.transforms.KeepLargestComponent()])\n",
        "# trainer_rand.test(test_plot_data, test_pre=[rect.utils.transforms.z_score()], \n",
        "#              test_post=[rect.utils.transforms.Binary(), rect.utils.transforms.KeepLargestComponent()])"
      ],
      "execution_count": null,
      "outputs": []
    },
    {
      "cell_type": "code",
      "metadata": {
        "id": "gi20assk5qXi",
        "tags": [
          "outputPrepend"
        ]
      },
      "source": [
        "model_vote = rect.model.networks.UNet(n_layers=5, device=device, gate='attention')\n",
        "train_data_vote = rect.utils.io.H5DataLoader(f, train_keys, label='vote')\n",
        "trainer_vote = rect.utils.train.Trainer(model_vote, ensemble=5, outdir='./vote')\n",
        "trainer_vote.train(train_data, train_pre=[rect.utils.transforms.z_score(), rect.utils.transforms.Flip(), rect.utils.transforms.Affine(), rect.utils.transforms.SpeckleNoise()], \n",
        "              val_pre=[rect.utils.transforms.z_score()])\n",
        "trainer_vote.test(test_data, test_pre=[rect.utils.transforms.z_score()], \n",
        "             test_post=[rect.utils.transforms.Binary(), rect.utils.transforms.KeepLargestComponent()])\n",
        "# trainer_vote.test(test_plot_data, test_pre=[rect.utils.transforms.z_score()], \n",
        "#              test_post=[rect.utils.transforms.Binary(), rect.utils.transforms.KeepLargestComponent()])"
      ],
      "execution_count": null,
      "outputs": []
    },
    {
      "cell_type": "code",
      "metadata": {
        "id": "b4CjqIprhNkO",
        "tags": [
          "outputPrepend"
        ]
      },
      "source": [
        "model_mean = rect.model.networks.UNet(n_layers=5, device=device, gate='attention')\n",
        "train_data_mean = rect.utils.io.H5DataLoader(f, train_keys, label='mean')\n",
        "trainer_mean = rect.utils.train.Trainer(model_mean, ensemble=5, outdir='./mean')\n",
        "trainer_mean.train(train_data, train_pre=[rect.utils.transforms.z_score(), rect.utils.transforms.Flip(), rect.utils.transforms.Affine(), rect.utils.transforms.SpeckleNoise()], \n",
        "              val_pre=[rect.utils.transforms.z_score()])\n",
        "trainer_mean.test(test_data, test_pre=[rect.utils.transforms.z_score()], \n",
        "             test_post=[rect.utils.transforms.Binary(), rect.utils.transforms.KeepLargestComponent()])\n",
        "# trainer_mean.test(test_plot_data, test_pre=[rect.utils.transforms.z_score()], \n",
        "#              test_post=[rect.utils.transforms.Binary(), rect.utils.transforms.KeepLargestComponent()], oname='test')"
      ],
      "execution_count": null,
      "outputs": []
    },
    {
      "cell_type": "code",
      "metadata": {
        "id": "vRPIQ1bTh22j"
      },
      "source": [
        "oname = date.today()\n",
        "oname = oname.strftime(\"%b-%d-%Y\")\n",
        "\n",
        "rand_dice = np.genfromtxt('./random/testing/table/dice_Apr-22-2021.csv', delimiter=',')\n",
        "rand_prec = np.genfromtxt('./random/testing/table/precision_Apr-22-2021.csv', delimiter=',')\n",
        "rand_rec = np.genfromtxt('./random/testing/table/recall_Apr-22-2021.csv', delimiter=',')\n",
        "\n",
        "vote_dice = np.genfromtxt('./vote/testing/table/dice_Apr-22-2021.csv', delimiter=',')\n",
        "vote_prec = np.genfromtxt('./vote/testing/table/precision_Apr-22-2021.csv', delimiter=',')\n",
        "vote_rec = np.genfromtxt('./vote/testing/table/recall_Apr-22-2021.csv', delimiter=',')\n",
        "\n",
        "mean_dice = np.genfromtxt('./mean/testing/table/dice_Apr-22-2021.csv', delimiter=',')\n",
        "mean_prec = np.genfromtxt('./mean/testing/table/precision_Apr-22-2021.csv', delimiter=',')\n",
        "mean_rec = np.genfromtxt('./mean/testing/table/recall_Apr-22-2021.csv', delimiter=',')"
      ],
      "execution_count": null,
      "outputs": []
    },
    {
      "cell_type": "code",
      "metadata": {
        "id": "hx1K8sO0jOPt"
      },
      "source": [
        "# create violin plots of dice scores\n",
        "\n",
        "plt.figure(figsize=(16,8))\n",
        "\n",
        "plt.subplot(131)\n",
        "plt.violinplot([rand_dice, vote_dice, mean_dice], showmeans=True)\n",
        "plt.ylabel('Dice Coefficient')\n",
        "plt.xticks([1, 2, 3], ['Random Sampling', 'Vote Sampling', 'Mean (soft) Sampling'])\n",
        "\n",
        "plt.subplot(132)\n",
        "plt.violinplot([rand_prec, vote_prec, mean_prec], showmeans=True)\n",
        "plt.ylabel('Precision')\n",
        "plt.xticks([1, 2, 3], ['Random Sampling', 'Vote Sampling', 'Mean (soft) Sampling'])\n",
        "\n",
        "plt.subplot(133)\n",
        "plt.violinplot([rand_rec, vote_rec, mean_rec], showmeans=True)\n",
        "plt.ylabel('Recall')\n",
        "plt.xticks([1, 2, 3], ['Random Sampling', 'Vote Sampling', 'Mean (soft) Sampling'])\n",
        "\n",
        "plt.show()"
      ],
      "execution_count": null,
      "outputs": []
    },
    {
      "cell_type": "code",
      "metadata": {
        "id": "8o7OcIuhoQAH"
      },
      "source": [
        "def bland_altman_plot(data1, data2, *args, **kwargs):\n",
        "    mean      = np.mean([data1, data2], axis=0)\n",
        "    diff      = data1 - data2                   # Difference between data1 and data2\n",
        "    md        = np.mean(diff)                   # Mean of the difference\n",
        "    sd        = np.std(diff, axis=0)            # Standard deviation of the difference\n",
        "    fit = linregress(mean, diff)\n",
        "    rsq = fit.rvalue**2\n",
        "    x = np.linspace(mean.min(), mean.max())\n",
        "    y = fit.slope * x + fit.intercept\n",
        "\n",
        "    plt.scatter(mean, diff, *args, **kwargs)\n",
        "    plt.plot(x, y, '--', c='r')\n",
        "    plt.text(x[-1], y[-1], '$R^2$ = {:.3f}'.format(rsq), c='r')\n",
        "    plt.axhline(md,           color='gray', linestyle='--')\n",
        "    plt.axhline(md + 1.96*sd, color='gray', linestyle='--')\n",
        "    plt.axhline(md - 1.96*sd, color='gray', linestyle='--')"
      ],
      "execution_count": null,
      "outputs": []
    },
    {
      "cell_type": "code",
      "metadata": {
        "id": "3UeTHkx6o96g"
      },
      "source": [
        "plt.figure(figsize=(16,8))\n",
        "plt.subplot(131)\n",
        "bland_altman_plot(rand_dice, vote_dice)\n",
        "plt.ylim([-1.1, 1.1])\n",
        "plt.xlim([-0.1, 1.1])\n",
        "plt.xlabel('Mean Dice')\n",
        "plt.ylabel('Difference in Dice')\n",
        "plt.title('Random vs. Vote')\n",
        "plt.subplot(132)\n",
        "bland_altman_plot(mean_dice, vote_dice)\n",
        "plt.ylim([-1.1, 1.1])\n",
        "plt.xlim([-0.1, 1.1])\n",
        "plt.title('Mean vs. Vote')\n",
        "plt.subplot(133)\n",
        "bland_altman_plot(rand_dice, mean_dice)\n",
        "plt.ylim([-1.1, 1.1])\n",
        "plt.xlim([-0.1, 1.1])\n",
        "plt.title('Random vs. Mean')\n",
        "plt.show()"
      ],
      "execution_count": null,
      "outputs": []
    },
    {
      "cell_type": "code",
      "metadata": {
        "id": "1K-D3gbQ39E9"
      },
      "source": [
        ""
      ],
      "execution_count": null,
      "outputs": []
    },
    {
      "cell_type": "markdown",
      "metadata": {
        "id": "tV3G5m_p39zm"
      },
      "source": [
        "Classifier screening"
      ]
    },
    {
      "cell_type": "code",
      "metadata": {
        "id": "l6jj_eQ0rVA-"
      },
      "source": [
        "class_train_ix, class_val_ix, _ = rect.utils.io.train_val_test(f, ratio=(0.6,0.2,0.2))\n",
        "\n",
        "class_train_keys, class_val_keys = rect.utils.io.key_gen(f, class_train_ix), rect.utils.io.key_gen(f, class_val_ix)\n",
        "\n",
        "class_train_data, class_val_data = rect.utils.io.ClassifyDataLoader(f, class_train_keys), rect.utils.io.ClassifyDataLoader(f, class_val_keys)"
      ],
      "execution_count": null,
      "outputs": []
    },
    {
      "cell_type": "code",
      "metadata": {
        "id": "J-KeA84F7Y0i"
      },
      "source": [
        "class_train_data = rect.utils.io.ClassifyDataLoader(f, class_train_keys)"
      ],
      "execution_count": null,
      "outputs": []
    },
    {
      "cell_type": "code",
      "metadata": {
        "id": "zY60xuqD8hIK"
      },
      "source": [
        "class_model = rect.model.networks.MakeDenseNet(freeze_weights=False).to(device)"
      ],
      "execution_count": null,
      "outputs": []
    },
    {
      "cell_type": "code",
      "metadata": {
        "id": "Kj-YsboB9WUC"
      },
      "source": [
        "class_trainer = rect.utils.train.ClassTrainer(class_model, outdir='./classlogs',\n",
        "                                         ensemble=None, early_stop=1000)"
      ],
      "execution_count": null,
      "outputs": []
    },
    {
      "cell_type": "code",
      "metadata": {
        "id": "I8lBqScOBAej"
      },
      "source": [
        "class_trainer.train(class_train_data, class_val_data)"
      ],
      "execution_count": null,
      "outputs": []
    },
    {
      "cell_type": "code",
      "metadata": {
        "id": "JDwQasTsBt7c"
      },
      "source": [
        "threshRange = np.linspace(0, 0.6, 20)\n",
        "\n",
        "for i, thresh in enumerate(threshRange):\n",
        "    print('Threshold = {}'.format(thresh))\n",
        "    test_screen_data = rect.utils.io.PreScreenLoader(class_model.eval(), f, test_keys, label='vote', threshold = thresh)\n",
        "    trainer_vote.test(test_screen_data, test_pre=[rect.utils.transforms.z_score()], \n",
        "                test_post=[rect.utils.transforms.Binary(), rect.utils.transforms.KeepLargestComponent()], oname='class_thresh_{}'.format(i))"
      ],
      "execution_count": null,
      "outputs": []
    },
    {
      "cell_type": "code",
      "metadata": {
        "id": "ARpBJ9iL3opL"
      },
      "source": [
        "diceMu = []\n",
        "diceSig = []\n",
        "precMu = []\n",
        "precSig = []\n",
        "recMu = []\n",
        "recSig = []\n",
        "\n",
        "for i in range(len(threshRange)):\n",
        "  dice_ = np.genfromtxt('./vote/testing/table/dice_class_thresh_{}.csv'.format(i), delimiter=',')\n",
        "  prec_ = np.genfromtxt('./vote/testing/table/precision_class_thresh_{}.csv'.format(i), delimiter=',')\n",
        "  rec_ = np.genfromtxt('./vote/testing/table/recall_class_thresh_{}.csv'.format(i), delimiter=',')\n",
        "\n",
        "  diceMu.append(np.mean(dice_))\n",
        "  diceSig.append(np.std(dice_))\n",
        "  precMu.append(np.mean(prec_))\n",
        "  precSig.append(np.std(prec_))\n",
        "  recMu.append(np.mean(rec_))\n",
        "  recSig.append(np.std(rec_))\n",
        "\n",
        "diceMu = np.array(diceMu)\n",
        "diceSig = np.array(diceSig)\n",
        "precMu = np.array(precMu)\n",
        "precSig = np.array(precSig)\n",
        "recMu = np.array(recMu)\n",
        "recSig = np.array(recSig)\n",
        "\n",
        "baseDiceMu = np.mean(vote_dice)\n",
        "baseDiceSig = np.std(vote_dice)\n",
        "basePrecMu = np.mean(vote_prec)\n",
        "basePrecSig = np.std(vote_prec)\n",
        "baseRecMu = np.mean(vote_rec)\n",
        "baseRecSig = np.std(vote_rec)"
      ],
      "execution_count": null,
      "outputs": []
    },
    {
      "cell_type": "code",
      "metadata": {
        "id": "8OLAPmKn1GvB"
      },
      "source": [
        "plt.figure(figsize=(16,8))\n",
        "\n",
        "plt.subplot(131)\n",
        "plt.plot(threshRange, diceMu)\n",
        "plt.fill_between(threshRange, diceMu-diceSig, diceMu+diceSig, alpha=0.2)\n",
        "plt.plot(threshRange, len(threshRange)*[baseDiceMu])\n",
        "plt.fill_between(threshRange, len(threshRange)*[baseDiceMu-baseDiceSig], len(threshRange)*[baseDiceMu+baseDiceSig], alpha=0.1)\n",
        "plt.xlabel('Classifier threshold')\n",
        "plt.ylabel('DSC')\n",
        "\n",
        "plt.subplot(132)\n",
        "plt.plot(threshRange, precMu)\n",
        "plt.fill_between(threshRange, precMu-precSig, precMu+precSig, alpha=0.2)\n",
        "plt.plot(threshRange, len(threshRange)*[basePrecMu])\n",
        "plt.fill_between(threshRange, len(threshRange)*[basePrecMu-basePrecSig], len(threshRange)*[basePrecMu+basePrecSig], alpha=0.1)\n",
        "plt.ylabel('Precision')\n",
        "\n",
        "plt.subplot(133)\n",
        "plt.plot(threshRange, recMu)\n",
        "plt.fill_between(threshRange, recMu-recSig, recMu+recSig, alpha=0.2)\n",
        "plt.plot(threshRange, len(threshRange)*[baseRecMu])\n",
        "plt.fill_between(threshRange, len(threshRange)*[baseRecMu-baseRecSig], len(threshRange)*[baseRecMu+baseRecSig], alpha=0.1)\n",
        "plt.ylabel('Recall')\n",
        "\n",
        "plt.show()"
      ],
      "execution_count": null,
      "outputs": []
    },
    {
      "cell_type": "code",
      "metadata": {
        "id": "Dlo_Aq9u5-7R"
      },
      "source": [
        "screen_dice = np.genfromtxt('./vote/testing/table/dice_class_thresh_{}.csv'.format(len(threshRange)-1), delimiter=',')\n",
        "\n",
        "plt.figure(figsize=(8,6))\n",
        "bland_altman_plot(screen_dice, vote_dice)\n",
        "plt.ylim([-1.1, 1.1])\n",
        "plt.xlim([-0.1, 1.1])\n",
        "plt.xlabel('Mean Dice')\n",
        "plt.ylabel('Difference in Dice')\n",
        "plt.show()"
      ],
      "execution_count": null,
      "outputs": []
    },
    {
      "cell_type": "code",
      "metadata": {
        "id": "Hi37SS4LLTsv"
      },
      "source": [
        ""
      ],
      "execution_count": null,
      "outputs": []
    }
  ]
}